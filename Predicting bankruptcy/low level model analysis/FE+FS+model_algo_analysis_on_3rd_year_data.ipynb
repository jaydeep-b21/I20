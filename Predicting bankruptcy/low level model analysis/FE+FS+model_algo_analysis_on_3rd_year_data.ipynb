{
 "cells": [
  {
   "cell_type": "code",
   "execution_count": 1,
   "metadata": {},
   "outputs": [],
   "source": [
    "import pandas as pd \n",
    "import numpy as np\n",
    "# for plotting\n",
    "import matplotlib.pyplot as plt\n",
    "import scipy.stats as stats\n",
    "from sklearn.model_selection import train_test_split\n",
    "# from feature-engine\n",
    "from feature_engine.imputation import MeanMedianImputer\n",
    "import scipy.stats as stats\n",
    "from feature_engine import transformation as vt\n",
    "import matplotlib.pyplot as plt\n",
    "from feature_engine.discretisation import EqualWidthDiscretiser\n",
    "from feature_engine.discretisation import DecisionTreeDiscretiser\n",
    "from sklearn.ensemble import RandomForestClassifier\n",
    "from sklearn.metrics import roc_auc_score\n",
    "from sklearn.linear_model import LogisticRegression\n",
    "# the scaler - for standardisation\n",
    "from sklearn.preprocessing import StandardScaler\n",
    "from sklearn.feature_selection import VarianceThreshold\n",
    "from sklearn.tree import DecisionTreeClassifier\n",
    "from sklearn.feature_selection import SelectFromModel"
   ]
  },
  {
   "cell_type": "code",
   "execution_count": 2,
   "metadata": {},
   "outputs": [],
   "source": [
    "# Classification algorithms\n",
    "from sklearn.linear_model import LogisticRegression\n",
    "from sklearn.neighbors import KNeighborsClassifier\n",
    "from sklearn.naive_bayes import GaussianNB\n",
    "from sklearn.svm import SVC\n",
    "from sklearn.gaussian_process import GaussianProcessClassifier\n",
    "from sklearn.gaussian_process.kernels import RBF\n",
    "from sklearn.tree import DecisionTreeClassifier\n",
    "from sklearn.ensemble import RandomForestClassifier, AdaBoostClassifier, GradientBoostingClassifier, VotingClassifier\n",
    "from sklearn.discriminant_analysis import LinearDiscriminantAnalysis , QuadraticDiscriminantAnalysis\n",
    "from sklearn.neural_network import MLPClassifier\n",
    "import lightgbm as lgb#  for this i have to install package  \"  !pip install lightgbm \"\n",
    "import xgboost as xgb\n",
    "# Data preprocessing :\n",
    "from sklearn.preprocessing import MinMaxScaler, StandardScaler, Normalizer, scale, LabelEncoder, OneHotEncoder\n",
    "# Modeling helper functions\n",
    "from sklearn.model_selection import train_test_split\n",
    "from sklearn.model_selection import GridSearchCV , KFold , cross_val_score\n",
    "from sklearn.metrics import accuracy_score,confusion_matrix, classification_report, precision_score,recall_score,f1_score"
   ]
  },
  {
   "cell_type": "code",
   "execution_count": 3,
   "metadata": {},
   "outputs": [],
   "source": [
    "# Data visualisation\n",
    "import matplotlib.pyplot as plt\n",
    "import seaborn as sns"
   ]
  },
  {
   "cell_type": "code",
   "execution_count": 4,
   "metadata": {},
   "outputs": [
    {
     "name": "stderr",
     "output_type": "stream",
     "text": [
      "C:\\Users\\CG-DTE\\anaconda3\\lib\\site-packages\\IPython\\core\\interactiveshell.py:3146: DtypeWarning: Columns (15,24) have mixed types.Specify dtype option on import or set low_memory=False.\n",
      "  has_raised = await self.run_ast_nodes(code_ast.body, cell_name,\n"
     ]
    }
   ],
   "source": [
    "year_3=pd.read_csv(r\"C:\\Users\\CG-DTE\\Desktop\\AI\\GITHUB\\Predicting bankruptcy\\low level model analysis\\3year.csv\")"
   ]
  },
  {
   "cell_type": "code",
   "execution_count": 5,
   "metadata": {},
   "outputs": [],
   "source": [
    "k1=year_3.columns.tolist()"
   ]
  },
  {
   "cell_type": "code",
   "execution_count": 6,
   "metadata": {},
   "outputs": [],
   "source": [
    "#replacing each ? to NAN\n",
    "for i in k1:\n",
    "    year_3[i] = year_3[i].replace('?' , np.nan)"
   ]
  },
  {
   "cell_type": "code",
   "execution_count": 7,
   "metadata": {},
   "outputs": [],
   "source": [
    "#converting object data into numericals(float64)\n",
    "year_3=year_3.apply(lambda col:pd.to_numeric(col,errors='coerce'))"
   ]
  },
  {
   "cell_type": "code",
   "execution_count": 8,
   "metadata": {},
   "outputs": [
    {
     "data": {
      "text/plain": [
       "((7352, 65), (3151, 65))"
      ]
     },
     "execution_count": 8,
     "metadata": {},
     "output_type": "execute_result"
    }
   ],
   "source": [
    "# Let's divide into train and test set\n",
    "\n",
    "X_train, X_test, y_train, y_test = train_test_split(\n",
    "    year_3.drop(labels='class', axis=1),  # predictors\n",
    "    year_3['class'],  # target\n",
    "    test_size=0.3,\n",
    "    random_state=0)\n",
    "\n",
    "X_train.shape, X_test.shape"
   ]
  },
  {
   "cell_type": "code",
   "execution_count": 9,
   "metadata": {},
   "outputs": [],
   "source": [
    "\n",
    "# replacing null with mean imputer \n",
    "mean_imputer= MeanMedianImputer(imputation_method='mean', variables = year_3.drop(labels='class',axis=1).columns.tolist())"
   ]
  },
  {
   "cell_type": "code",
   "execution_count": 10,
   "metadata": {},
   "outputs": [
    {
     "data": {
      "text/plain": [
       "MeanMedianImputer(imputation_method='mean',\n",
       "                  variables=['id', 'Attr1', 'Attr2', 'Attr3', 'Attr4', 'Attr5',\n",
       "                             'Attr6', 'Attr7', 'Attr8', 'Attr9', 'Attr10',\n",
       "                             'Attr11', 'Attr12', 'Attr13', 'Attr14', 'Attr15',\n",
       "                             'Attr16', 'Attr17', 'Attr18', 'Attr19', 'Attr20',\n",
       "                             'Attr21', 'Attr22', 'Attr23', 'Attr24', 'Attr25',\n",
       "                             'Attr26', 'Attr27', 'Attr28', 'Attr29', ...])"
      ]
     },
     "execution_count": 10,
     "metadata": {},
     "output_type": "execute_result"
    }
   ],
   "source": [
    "mean_imputer.fit(X_train)"
   ]
  },
  {
   "cell_type": "code",
   "execution_count": 11,
   "metadata": {},
   "outputs": [],
   "source": [
    "# let's transform the data with the pipeline\n",
    "X_train_imp= mean_imputer.transform(X_train)\n",
    "X_test_imp= mean_imputer.transform(X_test)"
   ]
  },
  {
   "cell_type": "code",
   "execution_count": 12,
   "metadata": {},
   "outputs": [],
   "source": [
    "X_train_no_miss=X_train_imp.copy()\n",
    "X_test_no_miss=X_test_imp.copy()\n",
    "y_train_no_miss=y_train.copy()\n",
    "y_test_no_miss=y_test.copy()"
   ]
  },
  {
   "cell_type": "code",
   "execution_count": 13,
   "metadata": {},
   "outputs": [],
   "source": [
    "from sklearn.feature_selection import VarianceThreshold\n",
    "from sklearn.tree import DecisionTreeClassifier\n",
    "from sklearn.feature_selection import SelectFromModel"
   ]
  },
  {
   "cell_type": "code",
   "execution_count": 14,
   "metadata": {},
   "outputs": [],
   "source": [
    "X_train=X_train_no_miss.copy()\n",
    "X_test=X_test_no_miss.copy()\n",
    "y_train=y_train_no_miss.copy()\n",
    "y_test=y_test_no_miss.copy()"
   ]
  },
  {
   "cell_type": "code",
   "execution_count": 15,
   "metadata": {},
   "outputs": [],
   "source": [
    "# I keep a copy of the dataset with all the variables\n",
    "# to measure the performance of machine learning models\n",
    "# at the end of the notebook\n",
    "X_train_original = X_train.copy()\n",
    "X_test_original = X_test.copy()"
   ]
  },
  {
   "cell_type": "markdown",
   "metadata": {},
   "source": [
    "### Remove constant features"
   ]
  },
  {
   "cell_type": "code",
   "execution_count": 16,
   "metadata": {},
   "outputs": [
    {
     "data": {
      "text/plain": [
       "((7352, 65), (3151, 65))"
      ]
     },
     "execution_count": 16,
     "metadata": {},
     "output_type": "execute_result"
    }
   ],
   "source": [
    "#before removing constatnt features\n",
    "X_train.shape,X_test.shape"
   ]
  },
  {
   "cell_type": "code",
   "execution_count": 17,
   "metadata": {},
   "outputs": [
    {
     "data": {
      "text/plain": [
       "((7352, 65), (3151, 65))"
      ]
     },
     "execution_count": 17,
     "metadata": {},
     "output_type": "execute_result"
    }
   ],
   "source": [
    "# remove constant features\n",
    "constant_features = [\n",
    "    feat for feat in X_train.columns if X_train[feat].std() == 0\n",
    "]\n",
    " \n",
    "X_train.drop(labels=constant_features, axis=1, inplace=True)\n",
    "X_test.drop(labels=constant_features, axis=1, inplace=True)\n",
    " \n",
    "X_train.shape, X_test.shape"
   ]
  },
  {
   "cell_type": "markdown",
   "metadata": {},
   "source": [
    "### Remove quasi-constant features"
   ]
  },
  {
   "cell_type": "code",
   "execution_count": 18,
   "metadata": {},
   "outputs": [
    {
     "data": {
      "text/plain": [
       "65"
      ]
     },
     "execution_count": 18,
     "metadata": {},
     "output_type": "execute_result"
    }
   ],
   "source": [
    "# remove quasi-constant features\n",
    "sel = VarianceThreshold(\n",
    "    threshold=0.1)  # 0.1 indicates 99% of observations approximately\n",
    " \n",
    "sel.fit(X_train)  # fit finds the features with low variance\n",
    " \n",
    "sum(sel.get_support()) # how many not quasi-constant?"
   ]
  },
  {
   "cell_type": "code",
   "execution_count": 19,
   "metadata": {},
   "outputs": [],
   "source": [
    "\n",
    "features_to_keep = X_train.columns[sel.get_support()]"
   ]
  },
  {
   "cell_type": "code",
   "execution_count": 20,
   "metadata": {},
   "outputs": [
    {
     "data": {
      "text/plain": [
       "((7352, 65), (3151, 65))"
      ]
     },
     "execution_count": 20,
     "metadata": {},
     "output_type": "execute_result"
    }
   ],
   "source": [
    "#we can then remove the features like this\n",
    "X_train = sel.transform(X_train)\n",
    "X_test = sel.transform(X_test)\n",
    " \n",
    "X_train.shape, X_test.shape"
   ]
  },
  {
   "cell_type": "code",
   "execution_count": 21,
   "metadata": {},
   "outputs": [],
   "source": [
    "#sklearn transformations lead to numpy arrays\n",
    "#here I transform the arrays back to dataframes\n",
    "# please be mindful of getting the columns assigned\n",
    "# correctly\n",
    " \n",
    "X_train= pd.DataFrame(X_train)\n",
    "X_train.columns = features_to_keep\n",
    " \n",
    "X_test= pd.DataFrame(X_test)\n",
    "X_test.columns = features_to_keep"
   ]
  },
  {
   "cell_type": "markdown",
   "metadata": {},
   "source": [
    "### Remove duplicated features"
   ]
  },
  {
   "cell_type": "code",
   "execution_count": 22,
   "metadata": {},
   "outputs": [
    {
     "name": "stdout",
     "output_type": "stream",
     "text": [
      "0\n",
      "10\n",
      "20\n",
      "30\n",
      "40\n",
      "50\n",
      "60\n"
     ]
    },
    {
     "data": {
      "text/plain": [
       "0"
      ]
     },
     "execution_count": 22,
     "metadata": {},
     "output_type": "execute_result"
    }
   ],
   "source": [
    "# check for duplicated features in the training set\n",
    "duplicated_feat = []\n",
    "for i in range(0, len(X_train.columns)):\n",
    "    if i % 10 == 0:  # this helps me understand how the loop is going\n",
    "        print(i)\n",
    " \n",
    "    col_1 = X_train.columns[i]\n",
    " \n",
    "    for col_2 in X_train.columns[i + 1:]:\n",
    "        if X_train[col_1].equals(X_train[col_2]):\n",
    "            duplicated_feat.append(col_2)\n",
    "            \n",
    "len(duplicated_feat)#no of duplicate features?"
   ]
  },
  {
   "cell_type": "code",
   "execution_count": 23,
   "metadata": {},
   "outputs": [
    {
     "data": {
      "text/plain": [
       "((7352, 65), (3151, 65))"
      ]
     },
     "execution_count": 23,
     "metadata": {},
     "output_type": "execute_result"
    }
   ],
   "source": [
    "# remove duplicated features\n",
    "X_train.drop(labels=duplicated_feat, axis=1, inplace=True)\n",
    "X_test.drop(labels=duplicated_feat, axis=1, inplace=True)\n",
    " \n",
    "X_train.shape, X_test.shape"
   ]
  },
  {
   "cell_type": "code",
   "execution_count": 24,
   "metadata": {},
   "outputs": [],
   "source": [
    "# I keep a copy of the dataset except constant and duplicated variables\n",
    "# to measure the performance of machine learning models\n",
    "# at the end of the notebook\n",
    " \n",
    "X_train_basic_filter = X_train.copy()\n",
    "X_test_basic_filter = X_test.copy()"
   ]
  },
  {
   "cell_type": "markdown",
   "metadata": {},
   "source": [
    "### Remove correlated features"
   ]
  },
  {
   "cell_type": "code",
   "execution_count": 25,
   "metadata": {},
   "outputs": [
    {
     "name": "stdout",
     "output_type": "stream",
     "text": [
      "correlated features:  33\n"
     ]
    }
   ],
   "source": [
    "# find and remove correlated features\n",
    "def correlation(dataset, threshold):\n",
    "    col_corr = set()  # Set of all the names of correlated columns\n",
    "    corr_matrix = dataset.corr()\n",
    "    for i in range(len(corr_matrix.columns)):\n",
    "        for j in range(i):\n",
    "            if abs(corr_matrix.iloc[i, j]) > threshold: # we are interested in absolute coeff value\n",
    "                colname = corr_matrix.columns[i]  # getting the name of column\n",
    "                col_corr.add(colname)\n",
    "    return col_corr\n",
    " \n",
    "corr_features = correlation(X_train, 0.85)\n",
    "print('correlated features: ', len(set(corr_features)) )"
   ]
  },
  {
   "cell_type": "code",
   "execution_count": 26,
   "metadata": {},
   "outputs": [
    {
     "data": {
      "text/plain": [
       "((7352, 32), (3151, 32))"
      ]
     },
     "execution_count": 26,
     "metadata": {},
     "output_type": "execute_result"
    }
   ],
   "source": [
    "# removed correlated  features\n",
    "X_train.drop(labels=corr_features, axis=1, inplace=True)\n",
    "X_test.drop(labels=corr_features, axis=1, inplace=True)\n",
    " \n",
    "X_train.shape, X_test.shape"
   ]
  },
  {
   "cell_type": "code",
   "execution_count": 27,
   "metadata": {},
   "outputs": [],
   "source": [
    "# keep a copy of the dataset at  this stage\n",
    "X_train_corr = X_train.copy()\n",
    "X_test_corr = X_test.copy()"
   ]
  },
  {
   "cell_type": "markdown",
   "metadata": {},
   "source": [
    "### Remove features using univariate ROC-AUC"
   ]
  },
  {
   "cell_type": "code",
   "execution_count": 28,
   "metadata": {},
   "outputs": [],
   "source": [
    "# find important features using univariate roc-auc\n",
    " \n",
    "# loop to build a tree, make predictions and get the roc-auc\n",
    "# for each feature of the train set\n",
    " \n",
    "roc_values = []\n",
    "for feature in X_train.columns:\n",
    "    clf = DecisionTreeClassifier()\n",
    "    clf.fit(X_train[feature].fillna(0).to_frame(), y_train)\n",
    "    y_scored = clf.predict_proba(X_test[feature].fillna(0).to_frame())\n",
    "    roc_values.append(roc_auc_score(y_test, y_scored[:, 1]))"
   ]
  },
  {
   "cell_type": "code",
   "execution_count": 29,
   "metadata": {},
   "outputs": [
    {
     "data": {
      "text/plain": [
       "<AxesSubplot:>"
      ]
     },
     "execution_count": 29,
     "metadata": {},
     "output_type": "execute_result"
    },
    {
     "data": {
      "image/png": "[encoded data removed]",
      "text/plain": [
       "<Figure size 1440x576 with 1 Axes>"
      ]
     },
     "metadata": {
      "needs_background": "light"
     },
     "output_type": "display_data"
    }
   ],
   "source": [
    "# let's add the variable names and order it for clearer visualisation\n",
    "roc_values = pd.Series(roc_values)\n",
    "roc_values.index = X_train.columns\n",
    "roc_values.sort_values(ascending=False).plot.bar(figsize=(20, 8))"
   ]
  },
  {
   "cell_type": "code",
   "execution_count": 30,
   "metadata": {},
   "outputs": [
    {
     "data": {
      "text/plain": [
       "(23, 32)"
      ]
     },
     "execution_count": 30,
     "metadata": {},
     "output_type": "execute_result"
    }
   ],
   "source": [
    "# by removing features with univariate roc_auc == 0.5\n",
    "# we remove another 30 features\n",
    " \n",
    "selected_feat = roc_values[roc_values>0.5]\n",
    "len(selected_feat), X_train.shape[1]"
   ]
  },
  {
   "cell_type": "markdown",
   "metadata": {},
   "source": [
    "### select feature based on random forest feature importance"
   ]
  },
  {
   "cell_type": "code",
   "execution_count": 31,
   "metadata": {},
   "outputs": [],
   "source": [
    "# select features using the impotance derived from\n",
    "# random forests\n",
    "sel_ = SelectFromModel(RandomForestClassifier(n_estimators=200))\n",
    "sel_.fit(X_train, y_train)\n",
    " \n",
    "# remove features with zero coefficient from dataset\n",
    "# and parse again as dataframe (output of sklearn is\n",
    "# numpy array)\n",
    "X_train_rf = pd.DataFrame(sel_.transform(X_train))\n",
    "X_test_rf = pd.DataFrame(sel_.transform(X_test))\n",
    " \n",
    "# add the columns name\n",
    "X_train_rf.columns = X_train.columns[(sel_.get_support())]\n",
    "X_test_rf.columns = X_train.columns[(sel_.get_support())]"
   ]
  },
  {
   "cell_type": "code",
   "execution_count": 32,
   "metadata": {},
   "outputs": [
    {
     "data": {
      "text/plain": [
       "Index(['id', 'Attr27'], dtype='object')"
      ]
     },
     "execution_count": 32,
     "metadata": {},
     "output_type": "execute_result"
    }
   ],
   "source": [
    "\n",
    "X_train_rf.columns"
   ]
  },
  {
   "cell_type": "markdown",
   "metadata": {},
   "source": [
    "### using random forest feature importance i got these set of features\n",
    "#### Index(['Attr27', 'Attr29', 'Attr40', 'Attr55', 'Attr58'], dtype='object')\n",
    "\n",
    "### feature selection using xgboosting feature importance"
   ]
  },
  {
   "cell_type": "code",
   "execution_count": 33,
   "metadata": {},
   "outputs": [],
   "source": [
    "# select features using the impotance derived from\n",
    "# xgb0sting algo \n",
    "#sel_ = SelectFromModel(xgb.XGBClassifier(n_estimators=200))\n",
    "#sel_.fit(X_train, y_train)\n",
    " \n",
    "# remove features with zero coefficient from dataset\n",
    "# and parse again as dataframe (output of sklearn is\n",
    "# numpy array)\n",
    "#X_train_rf = pd.DataFrame(sel_.transform(X_train))\n",
    "#X_test_rf = pd.DataFrame(sel_.transform(X_test))\n",
    " \n",
    "# add the columns name\n",
    "#X_train_rf.columns = X_train.columns[(sel_.get_support())]\n",
    "#X_test_rf.columns = X_train.columns[(sel_.get_support())]"
   ]
  },
  {
   "cell_type": "code",
   "execution_count": 34,
   "metadata": {},
   "outputs": [],
   "source": [
    "#X_train_rf.columns"
   ]
  },
  {
   "cell_type": "markdown",
   "metadata": {},
   "source": [
    "#### using xgboosting feature importance i got these set of features\n",
    "##### Index(['Attr2', 'Attr6', 'Attr7', 'Attr9', 'Attr12', 'Attr15', 'Attr21', 'Attr25', 'Attr27', 'Attr29', 'Attr41', 'Attr45'], dtype='object')\n",
    "\n",
    "#### but i have analysed explicitly set of features which are giving me best confusion matrix result are\n",
    "##### [['Attr5', 'Attr11', 'Attr21', 'Attr22', 'Attr24', 'Attr27', 'Attr33', 'Attr40', 'Attr46', 'Attr55']]\n",
    "\n",
    "#### above feature set i have gone through some feature engineering steps\n",
    "#### missing imputation------>gaussian transformation ----->decision tree descritisation------>scaling --->feature selection\n",
    "##### [['Attr5', 'Attr11', 'Attr21', 'Attr22', 'Attr24', 'Attr27', 'Attr33', 'Attr40', 'Attr46', 'Attr55']] i got these features\n",
    "\n",
    "#### but important analysis i found that feature set using these above feature engineering steps giving best result on original data aftter imputation only¶"
   ]
  },
  {
   "cell_type": "code",
   "execution_count": 35,
   "metadata": {},
   "outputs": [
    {
     "name": "stderr",
     "output_type": "stream",
     "text": [
      "C:\\Users\\CG-DTE\\anaconda3\\lib\\site-packages\\IPython\\core\\interactiveshell.py:3146: DtypeWarning: Columns (15,24) have mixed types.Specify dtype option on import or set low_memory=False.\n",
      "  has_raised = await self.run_ast_nodes(code_ast.body, cell_name,\n"
     ]
    }
   ],
   "source": [
    "data=pd.read_csv(r\"C:\\Users\\CG-DTE\\Desktop\\AI\\GITHUB\\Predicting bankruptcy\\low level model analysis\\3year.csv\")"
   ]
  },
  {
   "cell_type": "code",
   "execution_count": 36,
   "metadata": {},
   "outputs": [],
   "source": [
    "year_3=data[['Attr4','Attr5',  'Attr9', 'Attr13','Attr15', 'Attr21', 'Attr22', 'Attr24','Attr27',  'Attr34', 'Attr35', 'Attr40', 'Attr44', 'Attr46', 'Attr56','class']]"
   ]
  },
  {
   "cell_type": "code",
   "execution_count": 37,
   "metadata": {},
   "outputs": [],
   "source": [
    "k1=year_3.columns.tolist()"
   ]
  },
  {
   "cell_type": "code",
   "execution_count": 38,
   "metadata": {},
   "outputs": [
    {
     "name": "stderr",
     "output_type": "stream",
     "text": [
      "<ipython-input-38-2c26c53929e3>:3: SettingWithCopyWarning: \n",
      "A value is trying to be set on a copy of a slice from a DataFrame.\n",
      "Try using .loc[row_indexer,col_indexer] = value instead\n",
      "\n",
      "See the caveats in the documentation: https://pandas.pydata.org/pandas-docs/stable/user_guide/indexing.html#returning-a-view-versus-a-copy\n",
      "  year_3[i] = year_3[i].replace('?' , np.nan)\n"
     ]
    }
   ],
   "source": [
    "#replacing each ? to NAN\n",
    "for i in k1:\n",
    "    year_3[i] = year_3[i].replace('?' , np.nan)"
   ]
  },
  {
   "cell_type": "code",
   "execution_count": 39,
   "metadata": {},
   "outputs": [],
   "source": [
    "#converting object data into numericals(float64)\n",
    "year_3=year_3.apply(lambda col:pd.to_numeric(col,errors='coerce'))"
   ]
  },
  {
   "cell_type": "code",
   "execution_count": 40,
   "metadata": {},
   "outputs": [
    {
     "data": {
      "text/plain": [
       "((7352, 15), (3151, 15))"
      ]
     },
     "execution_count": 40,
     "metadata": {},
     "output_type": "execute_result"
    }
   ],
   "source": [
    "\n",
    "# Let's divide into train and test set\n",
    "\n",
    "X_train, X_test, y_train, y_test = train_test_split(\n",
    "    year_3.drop(labels='class', axis=1),  # predictors\n",
    "    year_3['class'],  # target\n",
    "    test_size=0.3,\n",
    "    random_state=0)\n",
    "\n",
    "X_train.shape, X_test.shape"
   ]
  },
  {
   "cell_type": "code",
   "execution_count": 41,
   "metadata": {},
   "outputs": [],
   "source": [
    "# replacing null with mean imputer \n",
    "mean_imputer= MeanMedianImputer(imputation_method='mean', variables = year_3.drop(labels='class',axis=1).columns.tolist())"
   ]
  },
  {
   "cell_type": "code",
   "execution_count": 42,
   "metadata": {},
   "outputs": [
    {
     "data": {
      "text/plain": [
       "MeanMedianImputer(imputation_method='mean',\n",
       "                  variables=['Attr4', 'Attr5', 'Attr9', 'Attr13', 'Attr15',\n",
       "                             'Attr21', 'Attr22', 'Attr24', 'Attr27', 'Attr34',\n",
       "                             'Attr35', 'Attr40', 'Attr44', 'Attr46', 'Attr56'])"
      ]
     },
     "execution_count": 42,
     "metadata": {},
     "output_type": "execute_result"
    }
   ],
   "source": [
    "mean_imputer.fit(X_train)"
   ]
  },
  {
   "cell_type": "code",
   "execution_count": 43,
   "metadata": {},
   "outputs": [],
   "source": [
    "# let's transform the data \n",
    "X_train_imp= mean_imputer.transform(X_train)\n",
    "X_test_imp= mean_imputer.transform(X_test)"
   ]
  },
  {
   "cell_type": "code",
   "execution_count": 44,
   "metadata": {},
   "outputs": [],
   "source": [
    "X_train_no_miss=X_train_imp.copy()\n",
    "X_test_no_miss=X_test_imp.copy()\n",
    "y_train_no_miss=y_train.copy()\n",
    "y_test_no_miss=y_test.copy()"
   ]
  },
  {
   "cell_type": "code",
   "execution_count": 45,
   "metadata": {},
   "outputs": [
    {
     "data": {
      "text/plain": [
       "StandardScaler()"
      ]
     },
     "execution_count": 45,
     "metadata": {},
     "output_type": "execute_result"
    }
   ],
   "source": [
    "#standardisation: with the StandardScaler from sklearn\n",
    "\n",
    "# set up the scaler\n",
    "scaler = StandardScaler()\n",
    "# fit the scaler to the train set, it will learn the parameters\n",
    "scaler.fit(X_train_no_miss)"
   ]
  },
  {
   "cell_type": "code",
   "execution_count": 46,
   "metadata": {},
   "outputs": [],
   "source": [
    "X_train_no_miss_scaled = scaler.transform(X_train_no_miss)\n",
    "X_test_no_miss_scaled = scaler.transform(X_test_no_miss)"
   ]
  },
  {
   "cell_type": "markdown",
   "metadata": {},
   "source": [
    "#### over sampling using smote"
   ]
  },
  {
   "cell_type": "code",
   "execution_count": 47,
   "metadata": {},
   "outputs": [],
   "source": [
    "from imblearn.over_sampling import SMOTE\n",
    "sm = SMOTE(random_state = 2) \n",
    "X_train_res, y_train_res = sm.fit_resample(X_train_no_miss_scaled, y_train_no_miss.ravel())"
   ]
  },
  {
   "cell_type": "markdown",
   "metadata": {},
   "source": [
    "## ------------------------------------------model analysis ----------------------------------------------------"
   ]
  },
  {
   "cell_type": "code",
   "execution_count": 48,
   "metadata": {},
   "outputs": [],
   "source": [
    "\n",
    "X_tr=X_train_res.copy()\n",
    "X_ts=X_test_no_miss_scaled.copy()\n",
    "y_tr=y_train_res.copy()\n",
    "y_ts=y_test_no_miss.copy()"
   ]
  },
  {
   "cell_type": "code",
   "execution_count": 49,
   "metadata": {},
   "outputs": [],
   "source": [
    "names = [\"Logistic Regression\", \"Nearest Neighbors\", \"Naive Bayes\", \"Linear SVM\", \"RBF SVM\",\n",
    "          \"Decision Tree\", \"Random Forest\", \"AdaBoost\", \"Gradient Boosting\", \n",
    "         \"LDA\", \"QDA\", \"Neural Net\", \"LightGBM\", \"XGBoost\" ]"
   ]
  },
  {
   "cell_type": "code",
   "execution_count": 50,
   "metadata": {},
   "outputs": [],
   "source": [
    "classifiers = [\n",
    "    LogisticRegression(),\n",
    "    KNeighborsClassifier(7),\n",
    "    GaussianNB(),\n",
    "    SVC(kernel=\"linear\", C=0.025),\n",
    "    SVC(kernel = \"rbf\", gamma=2, C=1),\n",
    "    #GaussianProcessClassifier(1.0 * RBF(1.0)),\n",
    "    DecisionTreeClassifier(max_depth=5),\n",
    "    RandomForestClassifier(max_depth=5, n_estimators=10, max_features=1),\n",
    "    AdaBoostClassifier(),\n",
    "    GradientBoostingClassifier(),\n",
    "    LinearDiscriminantAnalysis(),\n",
    "    QuadraticDiscriminantAnalysis(),\n",
    "    MLPClassifier(alpha=1, max_iter=1000),\n",
    "    lgb.LGBMClassifier(),    \n",
    "    xgb.XGBClassifier()\n",
    "   ]"
   ]
  },
  {
   "cell_type": "code",
   "execution_count": 51,
   "metadata": {},
   "outputs": [
    {
     "name": "stdout",
     "output_type": "stream",
     "text": [
      "Logistic Regression  :  0.649\n",
      "Nearest Neighbors  :  0.8242\n",
      "Naive Bayes  :  0.0892\n",
      "Linear SVM  :  0.615\n",
      "RBF SVM  :  0.7829\n",
      "Decision Tree  :  0.7131\n",
      "Random Forest  :  0.7912\n",
      "AdaBoost  :  0.8315\n",
      "Gradient Boosting  :  0.8984\n",
      "LDA  :  0.6766\n",
      "QDA  :  0.1133\n",
      "Neural Net  :  0.6223\n",
      "LightGBM  :  0.9413\n",
      "[16:27:55] WARNING: C:/Users/Administrator/workspace/xgboost-win64_release_1.5.0/src/learner.cc:1115: Starting in XGBoost 1.3.0, the default evaluation metric used with the objective 'binary:logistic' was changed from 'error' to 'logloss'. Explicitly set eval_metric if you'd like to restore the old behavior.\n"
     ]
    },
    {
     "name": "stderr",
     "output_type": "stream",
     "text": [
      "C:\\Users\\CG-DTE\\anaconda3\\lib\\site-packages\\xgboost\\sklearn.py:1224: UserWarning: The use of label encoder in XGBClassifier is deprecated and will be removed in a future release. To remove this warning, do the following: 1) Pass option use_label_encoder=False when constructing XGBClassifier object; and 2) Encode your labels (y) as integers starting with 0, i.e. 0, 1, 2, ..., [num_class - 1].\n",
      "  warnings.warn(label_encoder_deprecation_msg, UserWarning)\n"
     ]
    },
    {
     "name": "stdout",
     "output_type": "stream",
     "text": [
      "XGBoost  :  0.9499\n"
     ]
    }
   ],
   "source": [
    "accuracy_scores = []\n",
    "# iterate over classifiers and predict accuracy\n",
    "for name, clf in zip(names, classifiers):\n",
    "    clf.fit(X_tr, y_tr)\n",
    "    score = clf.score(X_ts, y_ts)\n",
    "    score = round(score, 4)\n",
    "    accuracy_scores.append(score)\n",
    "    print(name ,' : ' , score )"
   ]
  },
  {
   "cell_type": "code",
   "execution_count": 52,
   "metadata": {},
   "outputs": [
    {
     "name": "stdout",
     "output_type": "stream",
     "text": [
      "train set\n",
      "Gradient boosting Classifier model accuracy score for train set : 0.9082\n",
      "test set\n",
      "Gradient boosting Classifier model accuracy score for test set : 0.7902\n",
      "\n",
      "\n",
      "Confusion matrix\n",
      "\n",
      " [[2418  600]\n",
      " [  61   72]]\n",
      "\n",
      "True Positives(TP) =  2418\n",
      "\n",
      "True Negatives(TN) =  72\n",
      "\n",
      "False Positives(FP){type 1 error} =  600\n",
      "\n",
      "False Negatives(FN){type 2 error} =  61\n",
      "\n",
      "\n",
      "\n",
      "classification report\n",
      "              precision    recall  f1-score   support\n",
      "\n",
      "           0       0.98      0.80      0.88      3018\n",
      "           1       0.11      0.54      0.18       133\n",
      "\n",
      "    accuracy                           0.79      3151\n",
      "   macro avg       0.54      0.67      0.53      3151\n",
      "weighted avg       0.94      0.79      0.85      3151\n",
      "\n",
      "\n",
      "\n",
      "\n"
     ]
    },
    {
     "data": {
      "image/png": "[encoded data removed]",
      "text/plain": [
       "<Figure size 432x288 with 2 Axes>"
      ]
     },
     "metadata": {
      "needs_background": "light"
     },
     "output_type": "display_data"
    }
   ],
   "source": [
    "knn_clf = KNeighborsClassifier(11)\n",
    "\n",
    "knn_clf.fit(X_tr, y_tr)\n",
    "#predict train set \n",
    "print('train set')\n",
    "y1_pred = knn_clf.predict(X_tr)\n",
    "# print the accuracy\n",
    "print('Gradient boosting Classifier model accuracy score for train set : {0:0.4f}'. format(accuracy_score(y_tr, y1_pred)))\n",
    "\n",
    "#-------------------------------------------------------------------------------------------------------------------------------\n",
    "\n",
    "#predict test set\n",
    "print('test set')\n",
    "y2_pred = knn_clf.predict(X_ts)\n",
    "# print the accuracy\n",
    "print('Gradient boosting Classifier model accuracy score for test set : {0:0.4f}\\n\\n'. format(accuracy_score(y_ts, y2_pred)))\n",
    "\n",
    "#-------------------------------------------------confusion matrix-----------------------------------------------------------\n",
    "\n",
    "# print confusion-matrix\n",
    "\n",
    "cm = confusion_matrix(y_ts, y2_pred)\n",
    "\n",
    "print('Confusion matrix\\n\\n', cm)\n",
    "\n",
    "print('\\nTrue Positives(TP) = ', cm[0,0])\n",
    "\n",
    "print('\\nTrue Negatives(TN) = ', cm[1,1])\n",
    "\n",
    "print('\\nFalse Positives(FP){type 1 error} = ', cm[0,1])\n",
    "\n",
    "print('\\nFalse Negatives(FN){type 2 error} = ', cm[1,0])\n",
    "print('\\n\\n')\n",
    "\n",
    "#-------------------------------visualization of confusion matrix -----------------------------------------------------------\n",
    "\n",
    "# visualize confusion matrix with seaborn heatmap\n",
    "\n",
    "cm_matrix = pd.DataFrame(data=cm, columns=['Actual Positive:0', 'Actual Negative:1'], \n",
    "                                 index=['Predict Positive:0', 'Predict Negative:1'])\n",
    "\n",
    "sns.heatmap(cm_matrix, annot=True, fmt='d', cmap='YlGnBu')\n",
    "\n",
    "#----------------------------------classification report ----------------------------------------------------------------------\n",
    "print('classification report')\n",
    "print(classification_report(y_ts, y2_pred))\n",
    "print('\\n\\n')\n"
   ]
  },
  {
   "cell_type": "code",
   "execution_count": 53,
   "metadata": {},
   "outputs": [
    {
     "name": "stdout",
     "output_type": "stream",
     "text": [
      "train set\n",
      "Gradient boosting Classifier model accuracy score for train set : 0.6529\n",
      "test set\n",
      "Gradient boosting Classifier model accuracy score for test set : 0.6150\n",
      "\n",
      "\n",
      "Confusion matrix\n",
      "\n",
      " [[1833 1185]\n",
      " [  28  105]]\n",
      "\n",
      "True Positives(TP) =  1833\n",
      "\n",
      "True Negatives(TN) =  105\n",
      "\n",
      "False Positives(FP){type 1 error} =  1185\n",
      "\n",
      "False Negatives(FN){type 2 error} =  28\n",
      "\n",
      "\n",
      "\n",
      "classification report\n",
      "              precision    recall  f1-score   support\n",
      "\n",
      "           0       0.98      0.61      0.75      3018\n",
      "           1       0.08      0.79      0.15       133\n",
      "\n",
      "    accuracy                           0.62      3151\n",
      "   macro avg       0.53      0.70      0.45      3151\n",
      "weighted avg       0.95      0.62      0.73      3151\n",
      "\n",
      "\n",
      "\n",
      "\n"
     ]
    },
    {
     "data": {
      "image/png": "[encoded data removed]",
      "text/plain": [
       "<Figure size 432x288 with 2 Axes>"
      ]
     },
     "metadata": {
      "needs_background": "light"
     },
     "output_type": "display_data"
    }
   ],
   "source": [
    "svl_clf = SVC(kernel=\"linear\", C=0.025)\n",
    "\n",
    "svl_clf.fit(X_tr, y_tr)\n",
    "#predict train set \n",
    "print('train set')\n",
    "y1_pred = svl_clf.predict(X_tr)\n",
    "# print the accuracy\n",
    "print('Gradient boosting Classifier model accuracy score for train set : {0:0.4f}'. format(accuracy_score(y_tr, y1_pred)))\n",
    "\n",
    "#-------------------------------------------------------------------------------------------------------------------------------\n",
    "\n",
    "#predict test set\n",
    "print('test set')\n",
    "y2_pred = svl_clf.predict(X_ts)\n",
    "# print the accuracy\n",
    "print('Gradient boosting Classifier model accuracy score for test set : {0:0.4f}\\n\\n'. format(accuracy_score(y_ts, y2_pred)))\n",
    "\n",
    "#-------------------------------------------------confusion matrix-----------------------------------------------------------\n",
    "\n",
    "# print confusion-matrix\n",
    "\n",
    "cm = confusion_matrix(y_ts, y2_pred)\n",
    "\n",
    "print('Confusion matrix\\n\\n', cm)\n",
    "\n",
    "print('\\nTrue Positives(TP) = ', cm[0,0])\n",
    "\n",
    "print('\\nTrue Negatives(TN) = ', cm[1,1])\n",
    "\n",
    "print('\\nFalse Positives(FP){type 1 error} = ', cm[0,1])\n",
    "\n",
    "print('\\nFalse Negatives(FN){type 2 error} = ', cm[1,0])\n",
    "print('\\n\\n')\n",
    "\n",
    "#-------------------------------visualization of confusion matrix -----------------------------------------------------------\n",
    "\n",
    "# visualize confusion matrix with seaborn heatmap\n",
    "\n",
    "cm_matrix = pd.DataFrame(data=cm, columns=['Actual Positive:0', 'Actual Negative:1'], \n",
    "                                 index=['Predict Positive:0', 'Predict Negative:1'])\n",
    "\n",
    "sns.heatmap(cm_matrix, annot=True, fmt='d', cmap='YlGnBu')\n",
    "\n",
    "#----------------------------------classification report ----------------------------------------------------------------------\n",
    "print('classification report')\n",
    "print(classification_report(y_ts, y2_pred))\n",
    "print('\\n\\n')"
   ]
  },
  {
   "cell_type": "code",
   "execution_count": 54,
   "metadata": {},
   "outputs": [
    {
     "name": "stderr",
     "output_type": "stream",
     "text": [
      "C:\\Users\\CG-DTE\\anaconda3\\lib\\site-packages\\xgboost\\sklearn.py:1224: UserWarning: The use of label encoder in XGBClassifier is deprecated and will be removed in a future release. To remove this warning, do the following: 1) Pass option use_label_encoder=False when constructing XGBClassifier object; and 2) Encode your labels (y) as integers starting with 0, i.e. 0, 1, 2, ..., [num_class - 1].\n",
      "  warnings.warn(label_encoder_deprecation_msg, UserWarning)\n"
     ]
    },
    {
     "name": "stdout",
     "output_type": "stream",
     "text": [
      "[16:28:48] WARNING: C:/Users/Administrator/workspace/xgboost-win64_release_1.5.0/src/learner.cc:1115: Starting in XGBoost 1.3.0, the default evaluation metric used with the objective 'binary:logistic' was changed from 'error' to 'logloss'. Explicitly set eval_metric if you'd like to restore the old behavior.\n",
      "train set\n",
      "Gradient boosting Classifier model accuracy score for train set : 1.0000\n",
      "test set\n",
      "Gradient boosting Classifier model accuracy score for test set : 0.9499\n",
      "\n",
      "\n",
      "Confusion matrix\n",
      "\n",
      " [[2919   99]\n",
      " [  59   74]]\n",
      "\n",
      "True Positives(TP) =  2919\n",
      "\n",
      "True Negatives(TN) =  74\n",
      "\n",
      "False Positives(FP){type 1 error} =  99\n",
      "\n",
      "False Negatives(FN){type 2 error} =  59\n",
      "\n",
      "\n",
      "\n",
      "classification report\n",
      "              precision    recall  f1-score   support\n",
      "\n",
      "           0       0.98      0.97      0.97      3018\n",
      "           1       0.43      0.56      0.48       133\n",
      "\n",
      "    accuracy                           0.95      3151\n",
      "   macro avg       0.70      0.76      0.73      3151\n",
      "weighted avg       0.96      0.95      0.95      3151\n",
      "\n",
      "\n",
      "\n",
      "\n"
     ]
    },
    {
     "data": {
      "image/png": "[encoded data removed]",
      "text/plain": [
       "<Figure size 432x288 with 2 Axes>"
      ]
     },
     "metadata": {
      "needs_background": "light"
     },
     "output_type": "display_data"
    }
   ],
   "source": [
    "xgb_clf = xgb.XGBClassifier()\n",
    "\n",
    "xgb_clf.fit(X_tr, y_tr)\n",
    "#predict train set \n",
    "print('train set')\n",
    "y1_pred = xgb_clf.predict(X_tr)\n",
    "# print the accuracy\n",
    "print('Gradient boosting Classifier model accuracy score for train set : {0:0.4f}'. format(accuracy_score(y_tr, y1_pred)))\n",
    "\n",
    "#-------------------------------------------------------------------------------------------------------------------------------\n",
    "\n",
    "#predict test set\n",
    "print('test set')\n",
    "y2_pred = xgb_clf.predict(X_ts)\n",
    "# print the accuracy\n",
    "print('Gradient boosting Classifier model accuracy score for test set : {0:0.4f}\\n\\n'. format(accuracy_score(y_ts, y2_pred)))\n",
    "\n",
    "#-------------------------------------------------confusion matrix-----------------------------------------------------------\n",
    "\n",
    "# print confusion-matrix\n",
    "\n",
    "cm = confusion_matrix(y_ts, y2_pred)\n",
    "\n",
    "print('Confusion matrix\\n\\n', cm)\n",
    "\n",
    "print('\\nTrue Positives(TP) = ', cm[0,0])\n",
    "\n",
    "print('\\nTrue Negatives(TN) = ', cm[1,1])\n",
    "\n",
    "print('\\nFalse Positives(FP){type 1 error} = ', cm[0,1])\n",
    "\n",
    "print('\\nFalse Negatives(FN){type 2 error} = ', cm[1,0])\n",
    "print('\\n\\n')\n",
    "\n",
    "#-------------------------------visualization of confusion matrix -----------------------------------------------------------\n",
    "\n",
    "# visualize confusion matrix with seaborn heatmap\n",
    "\n",
    "cm_matrix = pd.DataFrame(data=cm, columns=['Actual Positive:0', 'Actual Negative:1'], \n",
    "                                 index=['Predict Positive:0', 'Predict Negative:1'])\n",
    "\n",
    "sns.heatmap(cm_matrix, annot=True, fmt='d', cmap='YlGnBu')\n",
    "\n",
    "#----------------------------------classification report ----------------------------------------------------------------------\n",
    "print('classification report')\n",
    "print(classification_report(y_ts, y2_pred))\n",
    "print('\\n\\n')"
   ]
  },
  {
   "cell_type": "code",
   "execution_count": 55,
   "metadata": {},
   "outputs": [
    {
     "name": "stdout",
     "output_type": "stream",
     "text": [
      "train set\n",
      "Gradient boosting Classifier model accuracy score for train set : 0.9928\n",
      "test set\n",
      "Gradient boosting Classifier model accuracy score for test set : 0.9413\n",
      "\n",
      "\n",
      "Confusion matrix\n",
      "\n",
      " [[2886  132]\n",
      " [  53   80]]\n",
      "\n",
      "True Positives(TP) =  2886\n",
      "\n",
      "True Negatives(TN) =  80\n",
      "\n",
      "False Positives(FP){type 1 error} =  132\n",
      "\n",
      "False Negatives(FN){type 2 error} =  53\n",
      "\n",
      "\n",
      "\n",
      "classification report\n",
      "              precision    recall  f1-score   support\n",
      "\n",
      "           0       0.98      0.96      0.97      3018\n",
      "           1       0.38      0.60      0.46       133\n",
      "\n",
      "    accuracy                           0.94      3151\n",
      "   macro avg       0.68      0.78      0.72      3151\n",
      "weighted avg       0.96      0.94      0.95      3151\n",
      "\n",
      "\n",
      "\n",
      "\n"
     ]
    },
    {
     "data": {
      "image/png": "[encoded data removed]",
      "text/plain": [
       "<Figure size 432x288 with 2 Axes>"
      ]
     },
     "metadata": {
      "needs_background": "light"
     },
     "output_type": "display_data"
    }
   ],
   "source": [
    "lgb_clf = lgb.LGBMClassifier()\n",
    "\n",
    "lgb_clf.fit(X_tr, y_tr)\n",
    "#predict train set \n",
    "print('train set')\n",
    "y1_pred = lgb_clf.predict(X_tr)\n",
    "# print the accuracy\n",
    "print('Gradient boosting Classifier model accuracy score for train set : {0:0.4f}'. format(accuracy_score(y_tr, y1_pred)))\n",
    "\n",
    "#-------------------------------------------------------------------------------------------------------------------------------\n",
    "\n",
    "#predict test set\n",
    "print('test set')\n",
    "y2_pred = lgb_clf.predict(X_ts)\n",
    "# print the accuracy\n",
    "print('Gradient boosting Classifier model accuracy score for test set : {0:0.4f}\\n\\n'. format(accuracy_score(y_ts, y2_pred)))\n",
    "\n",
    "#-------------------------------------------------confusion matrix-----------------------------------------------------------\n",
    "\n",
    "# print confusion-matrix\n",
    "\n",
    "cm = confusion_matrix(y_ts, y2_pred)\n",
    "\n",
    "print('Confusion matrix\\n\\n', cm)\n",
    "\n",
    "print('\\nTrue Positives(TP) = ', cm[0,0])\n",
    "\n",
    "print('\\nTrue Negatives(TN) = ', cm[1,1])\n",
    "\n",
    "print('\\nFalse Positives(FP){type 1 error} = ', cm[0,1])\n",
    "\n",
    "print('\\nFalse Negatives(FN){type 2 error} = ', cm[1,0])\n",
    "print('\\n\\n')\n",
    "\n",
    "#-------------------------------visualization of confusion matrix -----------------------------------------------------------\n",
    "\n",
    "# visualize confusion matrix with seaborn heatmap\n",
    "\n",
    "cm_matrix = pd.DataFrame(data=cm, columns=['Actual Positive:0', 'Actual Negative:1'], \n",
    "                                 index=['Predict Positive:0', 'Predict Negative:1'])\n",
    "\n",
    "sns.heatmap(cm_matrix, annot=True, fmt='d', cmap='YlGnBu')\n",
    "\n",
    "#----------------------------------classification report ----------------------------------------------------------------------\n",
    "print('classification report')\n",
    "print(classification_report(y_ts, y2_pred))\n",
    "print('\\n\\n')"
   ]
  },
  {
   "cell_type": "markdown",
   "metadata": {},
   "source": [
    "### i m performing oversampling on original data without scaling becoz w/o scaling is giving better result"
   ]
  },
  {
   "cell_type": "code",
   "execution_count": 56,
   "metadata": {},
   "outputs": [],
   "source": [
    "from imblearn.over_sampling import SMOTE\n",
    "sm = SMOTE(random_state = 2) \n",
    "X_train_res, y_train_res = sm.fit_resample(X_train_no_miss, y_train_no_miss.ravel())"
   ]
  },
  {
   "cell_type": "code",
   "execution_count": 57,
   "metadata": {},
   "outputs": [],
   "source": [
    "X_tr=X_train_res.copy()\n",
    "X_ts=X_test_no_miss.copy()\n",
    "y_tr=y_train_res.copy()\n",
    "y_ts=y_test_no_miss.copy()"
   ]
  },
  {
   "cell_type": "code",
   "execution_count": 58,
   "metadata": {},
   "outputs": [
    {
     "name": "stderr",
     "output_type": "stream",
     "text": [
      "C:\\Users\\CG-DTE\\anaconda3\\lib\\site-packages\\xgboost\\sklearn.py:1224: UserWarning: The use of label encoder in XGBClassifier is deprecated and will be removed in a future release. To remove this warning, do the following: 1) Pass option use_label_encoder=False when constructing XGBClassifier object; and 2) Encode your labels (y) as integers starting with 0, i.e. 0, 1, 2, ..., [num_class - 1].\n",
      "  warnings.warn(label_encoder_deprecation_msg, UserWarning)\n"
     ]
    },
    {
     "name": "stdout",
     "output_type": "stream",
     "text": [
      "[16:28:55] WARNING: C:/Users/Administrator/workspace/xgboost-win64_release_1.5.0/src/learner.cc:1115: Starting in XGBoost 1.3.0, the default evaluation metric used with the objective 'binary:logistic' was changed from 'error' to 'logloss'. Explicitly set eval_metric if you'd like to restore the old behavior.\n",
      "train set\n",
      "xgboosting Classifier model accuracy score for train set : 1.0000\n",
      "test set\n",
      "xgBoosting Classifier model accuracy score for test set : 0.9483\n",
      "\n",
      "\n",
      "Confusion matrix\n",
      "\n",
      " [[2907  111]\n",
      " [  52   81]]\n",
      "\n",
      "True Positives(TP) =  2907\n",
      "\n",
      "True Negatives(TN) =  81\n",
      "\n",
      "False Positives(FP){type 1 error} =  111\n",
      "\n",
      "False Negatives(FN){type 2 error} =  52\n",
      "\n",
      "\n",
      "\n",
      "classification report\n",
      "              precision    recall  f1-score   support\n",
      "\n",
      "           0       0.98      0.96      0.97      3018\n",
      "           1       0.42      0.61      0.50       133\n",
      "\n",
      "    accuracy                           0.95      3151\n",
      "   macro avg       0.70      0.79      0.74      3151\n",
      "weighted avg       0.96      0.95      0.95      3151\n",
      "\n",
      "\n",
      "\n",
      "\n"
     ]
    },
    {
     "data": {
      "image/png": "[encoded data removed]",
      "text/plain": [
       "<Figure size 432x288 with 2 Axes>"
      ]
     },
     "metadata": {
      "needs_background": "light"
     },
     "output_type": "display_data"
    }
   ],
   "source": [
    "xgb_clf = xgb.XGBClassifier()\n",
    "\n",
    "xgb_clf.fit(X_tr, y_tr)\n",
    "#predict train set \n",
    "print('train set')\n",
    "y1_pred = xgb_clf.predict(X_tr)\n",
    "# print the accuracy\n",
    "print('xgboosting Classifier model accuracy score for train set : {0:0.4f}'. format(accuracy_score(y_tr, y1_pred)))\n",
    "\n",
    "#-------------------------------------------------------------------------------------------------------------------------------\n",
    "\n",
    "#predict test set\n",
    "print('test set')\n",
    "y2_pred = xgb_clf.predict(X_ts)\n",
    "# print the accuracy\n",
    "print('xgBoosting Classifier model accuracy score for test set : {0:0.4f}\\n\\n'. format(accuracy_score(y_ts, y2_pred)))\n",
    "\n",
    "#-------------------------------------------------confusion matrix-----------------------------------------------------------\n",
    "\n",
    "# print confusion-matrix\n",
    "\n",
    "cm = confusion_matrix(y_ts, y2_pred)\n",
    "\n",
    "print('Confusion matrix\\n\\n', cm)\n",
    "\n",
    "print('\\nTrue Positives(TP) = ', cm[0,0])\n",
    "\n",
    "print('\\nTrue Negatives(TN) = ', cm[1,1])\n",
    "\n",
    "print('\\nFalse Positives(FP){type 1 error} = ', cm[0,1])\n",
    "\n",
    "print('\\nFalse Negatives(FN){type 2 error} = ', cm[1,0])\n",
    "print('\\n\\n')\n",
    "\n",
    "#-------------------------------visualization of confusion matrix -----------------------------------------------------------\n",
    "\n",
    "# visualize confusion matrix with seaborn heatmap\n",
    "\n",
    "cm_matrix = pd.DataFrame(data=cm, columns=['Actual Positive:0', 'Actual Negative:1'], \n",
    "                                 index=['Predict Positive:0', 'Predict Negative:1'])\n",
    "\n",
    "sns.heatmap(cm_matrix, annot=True, fmt='d', cmap='YlGnBu')\n",
    "\n",
    "#----------------------------------classification report ----------------------------------------------------------------------\n",
    "print('classification report')\n",
    "print(classification_report(y_ts, y2_pred))\n",
    "print('\\n\\n')"
   ]
  },
  {
   "cell_type": "code",
   "execution_count": 59,
   "metadata": {},
   "outputs": [
    {
     "name": "stdout",
     "output_type": "stream",
     "text": [
      "train set\n",
      "light gradient boosting Classifier model accuracy score for train set : 0.9879\n",
      "test set\n",
      "light gradiant boosting Classifier model accuracy score for test set : 0.9330\n",
      "\n",
      "\n",
      "Confusion matrix\n",
      "\n",
      " [[2853  165]\n",
      " [  46   87]]\n",
      "\n",
      "True Positives(TP) =  2853\n",
      "\n",
      "True Negatives(TN) =  87\n",
      "\n",
      "False Positives(FP){type 1 error} =  165\n",
      "\n",
      "False Negatives(FN){type 2 error} =  46\n",
      "\n",
      "\n",
      "\n",
      "classification report\n",
      "              precision    recall  f1-score   support\n",
      "\n",
      "           0       0.98      0.95      0.96      3018\n",
      "           1       0.35      0.65      0.45       133\n",
      "\n",
      "    accuracy                           0.93      3151\n",
      "   macro avg       0.66      0.80      0.71      3151\n",
      "weighted avg       0.96      0.93      0.94      3151\n",
      "\n",
      "\n",
      "\n",
      "\n"
     ]
    },
    {
     "data": {
      "image/png": "[encoded data removed]",
      "text/plain": [
       "<Figure size 432x288 with 2 Axes>"
      ]
     },
     "metadata": {
      "needs_background": "light"
     },
     "output_type": "display_data"
    }
   ],
   "source": [
    "lgb_clf = lgb.LGBMClassifier()\n",
    "\n",
    "lgb_clf.fit(X_tr, y_tr)\n",
    "#predict train set \n",
    "print('train set')\n",
    "y1_pred = lgb_clf.predict(X_tr)\n",
    "# print the accuracy\n",
    "print('light gradient boosting Classifier model accuracy score for train set : {0:0.4f}'. format(accuracy_score(y_tr, y1_pred)))\n",
    "\n",
    "#-------------------------------------------------------------------------------------------------------------------------------\n",
    "\n",
    "#predict test set\n",
    "print('test set')\n",
    "y2_pred = lgb_clf.predict(X_ts)\n",
    "# print the accuracy\n",
    "print('light gradiant boosting Classifier model accuracy score for test set : {0:0.4f}\\n\\n'. format(accuracy_score(y_ts, y2_pred)))\n",
    "\n",
    "#-------------------------------------------------confusion matrix-----------------------------------------------------------\n",
    "\n",
    "# print confusion-matrix\n",
    "\n",
    "cm = confusion_matrix(y_ts, y2_pred)\n",
    "\n",
    "print('Confusion matrix\\n\\n', cm)\n",
    "\n",
    "print('\\nTrue Positives(TP) = ', cm[0,0])\n",
    "\n",
    "print('\\nTrue Negatives(TN) = ', cm[1,1])\n",
    "\n",
    "print('\\nFalse Positives(FP){type 1 error} = ', cm[0,1])\n",
    "\n",
    "print('\\nFalse Negatives(FN){type 2 error} = ', cm[1,0])\n",
    "print('\\n\\n')\n",
    "\n",
    "#-------------------------------visualization of confusion matrix -----------------------------------------------------------\n",
    "\n",
    "# visualize confusion matrix with seaborn heatmap\n",
    "\n",
    "cm_matrix = pd.DataFrame(data=cm, columns=['Actual Positive:0', 'Actual Negative:1'], \n",
    "                                 index=['Predict Positive:0', 'Predict Negative:1'])\n",
    "\n",
    "sns.heatmap(cm_matrix, annot=True, fmt='d', cmap='YlGnBu')\n",
    "\n",
    "#----------------------------------classification report ----------------------------------------------------------------------\n",
    "print('classification report')\n",
    "print(classification_report(y_ts, y2_pred))\n",
    "print('\\n\\n')"
   ]
  },
  {
   "cell_type": "markdown",
   "metadata": {},
   "source": [
    "### conclusion:- till now best result i found with XGBoosting algorithm and i will deploye first year data model based on the XGboosting algo only"
   ]
  },
  {
   "cell_type": "code",
   "execution_count": null,
   "metadata": {},
   "outputs": [],
   "source": []
  },
  {
   "cell_type": "code",
   "execution_count": null,
   "metadata": {},
   "outputs": [],
   "source": []
  },
  {
   "cell_type": "code",
   "execution_count": null,
   "metadata": {},
   "outputs": [],
   "source": []
  },
  {
   "cell_type": "code",
   "execution_count": null,
   "metadata": {},
   "outputs": [],
   "source": []
  },
  {
   "cell_type": "code",
   "execution_count": null,
   "metadata": {},
   "outputs": [],
   "source": []
  },
  {
   "cell_type": "code",
   "execution_count": null,
   "metadata": {},
   "outputs": [],
   "source": []
  }
 ],
 "metadata": {
  "kernelspec": {
   "display_name": "Python 3",
   "language": "python",
   "name": "python3"
  },
  "language_info": {
   "codemirror_mode": {
    "name": "ipython",
    "version": 3
   },
   "file_extension": ".py",
   "mimetype": "text/x-python",
   "name": "python",
   "nbconvert_exporter": "python",
   "pygments_lexer": "ipython3",
   "version": "3.8.5"
  }
 },
 "nbformat": 4,
 "nbformat_minor": 4
}
