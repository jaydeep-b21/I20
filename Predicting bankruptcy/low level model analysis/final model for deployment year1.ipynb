{
 "cells": [
  {
   "cell_type": "code",
   "execution_count": 1,
   "metadata": {},
   "outputs": [],
   "source": [
    "import pandas as pd \n",
    "import numpy as np"
   ]
  },
  {
   "cell_type": "code",
   "execution_count": 2,
   "metadata": {},
   "outputs": [],
   "source": [
    "\n",
    "data=pd.read_csv(r\"C:\\Users\\CG-DTE\\Desktop\\AI\\GITHUB\\Predicting bankruptcy\\low level model analysis\\1year.csv\")"
   ]
  },
  {
   "cell_type": "markdown",
   "metadata": {},
   "source": [
    "### above feature set i have gone through some feature engineering steps\n",
    "#### missing imputation------>gaussian transformation ----->decision tree descritisation------>scaling --->feature selection\n",
    "#### [['Attr5', 'Attr11', 'Attr21', 'Attr22', 'Attr24', 'Attr27', 'Attr33', 'Attr40', 'Attr46', 'Attr55']] i got these features\n",
    "\n",
    "### but important analysis i found that feature set using these above feature engineering steps giving best result on original data aftter imputation only"
   ]
  },
  {
   "cell_type": "code",
   "execution_count": 3,
   "metadata": {},
   "outputs": [],
   "source": [
    "year_1=data[['Attr5', 'Attr11', 'Attr21', 'Attr22', 'Attr24', 'Attr27', 'Attr33', 'Attr40', 'Attr46', 'Attr55','class']]"
   ]
  },
  {
   "cell_type": "code",
   "execution_count": 4,
   "metadata": {},
   "outputs": [],
   "source": [
    "k1=year_1.columns.tolist()"
   ]
  },
  {
   "cell_type": "code",
   "execution_count": 5,
   "metadata": {},
   "outputs": [
    {
     "name": "stderr",
     "output_type": "stream",
     "text": [
      "<ipython-input-5-399612e69be0>:3: SettingWithCopyWarning: \n",
      "A value is trying to be set on a copy of a slice from a DataFrame.\n",
      "Try using .loc[row_indexer,col_indexer] = value instead\n",
      "\n",
      "See the caveats in the documentation: https://pandas.pydata.org/pandas-docs/stable/user_guide/indexing.html#returning-a-view-versus-a-copy\n",
      "  year_1[i] = year_1[i].replace('?' , np.nan)\n"
     ]
    }
   ],
   "source": [
    "#replacing each ? to NAN\n",
    "for i in k1:\n",
    "    year_1[i] = year_1[i].replace('?' , np.nan)"
   ]
  },
  {
   "cell_type": "code",
   "execution_count": 6,
   "metadata": {},
   "outputs": [],
   "source": [
    "#converting object data into numericals(float64)\n",
    "year_1=year_1.apply(lambda col:pd.to_numeric(col,errors='coerce'))"
   ]
  },
  {
   "cell_type": "code",
   "execution_count": 7,
   "metadata": {},
   "outputs": [
    {
     "data": {
      "text/html": [
       "<div>\n",
       "<style scoped>\n",
       "    .dataframe tbody tr th:only-of-type {\n",
       "        vertical-align: middle;\n",
       "    }\n",
       "\n",
       "    .dataframe tbody tr th {\n",
       "        vertical-align: top;\n",
       "    }\n",
       "\n",
       "    .dataframe thead th {\n",
       "        text-align: right;\n",
       "    }\n",
       "</style>\n",
       "<table border=\"1\" class=\"dataframe\">\n",
       "  <thead>\n",
       "    <tr style=\"text-align: right;\">\n",
       "      <th></th>\n",
       "      <th>Attr5</th>\n",
       "      <th>Attr11</th>\n",
       "      <th>Attr21</th>\n",
       "      <th>Attr22</th>\n",
       "      <th>Attr24</th>\n",
       "      <th>Attr27</th>\n",
       "      <th>Attr33</th>\n",
       "      <th>Attr40</th>\n",
       "      <th>Attr46</th>\n",
       "      <th>Attr55</th>\n",
       "      <th>class</th>\n",
       "    </tr>\n",
       "  </thead>\n",
       "  <tbody>\n",
       "    <tr>\n",
       "      <th>0</th>\n",
       "      <td>32.3510</td>\n",
       "      <td>0.249760</td>\n",
       "      <td>1.24790</td>\n",
       "      <td>0.214020</td>\n",
       "      <td>0.477060</td>\n",
       "      <td>1.45820</td>\n",
       "      <td>3.8772</td>\n",
       "      <td>0.662950</td>\n",
       "      <td>1.52250</td>\n",
       "      <td>348690.0</td>\n",
       "      <td>0</td>\n",
       "    </tr>\n",
       "    <tr>\n",
       "      <th>1</th>\n",
       "      <td>14.7860</td>\n",
       "      <td>0.261140</td>\n",
       "      <td>1.42930</td>\n",
       "      <td>0.248060</td>\n",
       "      <td>NaN</td>\n",
       "      <td>88.44400</td>\n",
       "      <td>2.9876</td>\n",
       "      <td>0.086422</td>\n",
       "      <td>1.12520</td>\n",
       "      <td>2304.6</td>\n",
       "      <td>0</td>\n",
       "    </tr>\n",
       "    <tr>\n",
       "      <th>2</th>\n",
       "      <td>-1.1523</td>\n",
       "      <td>0.312580</td>\n",
       "      <td>1.42830</td>\n",
       "      <td>0.302600</td>\n",
       "      <td>NaN</td>\n",
       "      <td>86.01100</td>\n",
       "      <td>2.0630</td>\n",
       "      <td>0.322020</td>\n",
       "      <td>1.01010</td>\n",
       "      <td>6332.7</td>\n",
       "      <td>0</td>\n",
       "    </tr>\n",
       "    <tr>\n",
       "      <th>3</th>\n",
       "      <td>51.9520</td>\n",
       "      <td>0.092704</td>\n",
       "      <td>1.50690</td>\n",
       "      <td>0.115500</td>\n",
       "      <td>0.171930</td>\n",
       "      <td>0.94076</td>\n",
       "      <td>3.9948</td>\n",
       "      <td>0.401390</td>\n",
       "      <td>1.56960</td>\n",
       "      <td>20545.0</td>\n",
       "      <td>0</td>\n",
       "    </tr>\n",
       "    <tr>\n",
       "      <th>4</th>\n",
       "      <td>-7.3128</td>\n",
       "      <td>0.187320</td>\n",
       "      <td>NaN</td>\n",
       "      <td>0.198320</td>\n",
       "      <td>0.187320</td>\n",
       "      <td>1.41380</td>\n",
       "      <td>2.4823</td>\n",
       "      <td>0.293040</td>\n",
       "      <td>0.95787</td>\n",
       "      <td>3186.6</td>\n",
       "      <td>0</td>\n",
       "    </tr>\n",
       "    <tr>\n",
       "      <th>...</th>\n",
       "      <td>...</td>\n",
       "      <td>...</td>\n",
       "      <td>...</td>\n",
       "      <td>...</td>\n",
       "      <td>...</td>\n",
       "      <td>...</td>\n",
       "      <td>...</td>\n",
       "      <td>...</td>\n",
       "      <td>...</td>\n",
       "      <td>...</td>\n",
       "      <td>...</td>\n",
       "    </tr>\n",
       "    <tr>\n",
       "      <th>7022</th>\n",
       "      <td>-18.4490</td>\n",
       "      <td>0.018371</td>\n",
       "      <td>1.20480</td>\n",
       "      <td>0.032032</td>\n",
       "      <td>0.018371</td>\n",
       "      <td>NaN</td>\n",
       "      <td>11.5340</td>\n",
       "      <td>0.302270</td>\n",
       "      <td>0.44959</td>\n",
       "      <td>-2732.8</td>\n",
       "      <td>1</td>\n",
       "    </tr>\n",
       "    <tr>\n",
       "      <th>7023</th>\n",
       "      <td>-42.2320</td>\n",
       "      <td>-0.015036</td>\n",
       "      <td>1.17170</td>\n",
       "      <td>-0.008746</td>\n",
       "      <td>-0.015036</td>\n",
       "      <td>NaN</td>\n",
       "      <td>3.9222</td>\n",
       "      <td>0.022246</td>\n",
       "      <td>0.56298</td>\n",
       "      <td>-2557.1</td>\n",
       "      <td>1</td>\n",
       "    </tr>\n",
       "    <tr>\n",
       "      <th>7024</th>\n",
       "      <td>9.7417</td>\n",
       "      <td>0.012022</td>\n",
       "      <td>NaN</td>\n",
       "      <td>0.014559</td>\n",
       "      <td>0.012022</td>\n",
       "      <td>NaN</td>\n",
       "      <td>7.0952</td>\n",
       "      <td>0.012816</td>\n",
       "      <td>1.19030</td>\n",
       "      <td>4826.9</td>\n",
       "      <td>1</td>\n",
       "    </tr>\n",
       "    <tr>\n",
       "      <th>7025</th>\n",
       "      <td>-121.9200</td>\n",
       "      <td>0.006414</td>\n",
       "      <td>0.64405</td>\n",
       "      <td>0.006414</td>\n",
       "      <td>0.045607</td>\n",
       "      <td>0.14843</td>\n",
       "      <td>1.7183</td>\n",
       "      <td>0.096108</td>\n",
       "      <td>0.13122</td>\n",
       "      <td>-1633.0</td>\n",
       "      <td>1</td>\n",
       "    </tr>\n",
       "    <tr>\n",
       "      <th>7026</th>\n",
       "      <td>-20.5810</td>\n",
       "      <td>0.076621</td>\n",
       "      <td>NaN</td>\n",
       "      <td>0.049167</td>\n",
       "      <td>0.015260</td>\n",
       "      <td>0.80127</td>\n",
       "      <td>3.3074</td>\n",
       "      <td>0.007959</td>\n",
       "      <td>0.23141</td>\n",
       "      <td>42.0</td>\n",
       "      <td>1</td>\n",
       "    </tr>\n",
       "  </tbody>\n",
       "</table>\n",
       "<p>7027 rows × 11 columns</p>\n",
       "</div>"
      ],
      "text/plain": [
       "         Attr5    Attr11   Attr21    Attr22    Attr24    Attr27   Attr33  \\\n",
       "0      32.3510  0.249760  1.24790  0.214020  0.477060   1.45820   3.8772   \n",
       "1      14.7860  0.261140  1.42930  0.248060       NaN  88.44400   2.9876   \n",
       "2      -1.1523  0.312580  1.42830  0.302600       NaN  86.01100   2.0630   \n",
       "3      51.9520  0.092704  1.50690  0.115500  0.171930   0.94076   3.9948   \n",
       "4      -7.3128  0.187320      NaN  0.198320  0.187320   1.41380   2.4823   \n",
       "...        ...       ...      ...       ...       ...       ...      ...   \n",
       "7022  -18.4490  0.018371  1.20480  0.032032  0.018371       NaN  11.5340   \n",
       "7023  -42.2320 -0.015036  1.17170 -0.008746 -0.015036       NaN   3.9222   \n",
       "7024    9.7417  0.012022      NaN  0.014559  0.012022       NaN   7.0952   \n",
       "7025 -121.9200  0.006414  0.64405  0.006414  0.045607   0.14843   1.7183   \n",
       "7026  -20.5810  0.076621      NaN  0.049167  0.015260   0.80127   3.3074   \n",
       "\n",
       "        Attr40   Attr46    Attr55  class  \n",
       "0     0.662950  1.52250  348690.0      0  \n",
       "1     0.086422  1.12520    2304.6      0  \n",
       "2     0.322020  1.01010    6332.7      0  \n",
       "3     0.401390  1.56960   20545.0      0  \n",
       "4     0.293040  0.95787    3186.6      0  \n",
       "...        ...      ...       ...    ...  \n",
       "7022  0.302270  0.44959   -2732.8      1  \n",
       "7023  0.022246  0.56298   -2557.1      1  \n",
       "7024  0.012816  1.19030    4826.9      1  \n",
       "7025  0.096108  0.13122   -1633.0      1  \n",
       "7026  0.007959  0.23141      42.0      1  \n",
       "\n",
       "[7027 rows x 11 columns]"
      ]
     },
     "execution_count": 7,
     "metadata": {},
     "output_type": "execute_result"
    }
   ],
   "source": [
    "year_1"
   ]
  },
  {
   "cell_type": "markdown",
   "metadata": {},
   "source": [
    "### so here i m building model on entire dataset for , so i m not divinding into train and test dataset , so that i do have ample amount of data to train our model more accurately"
   ]
  },
  {
   "cell_type": "code",
   "execution_count": 8,
   "metadata": {},
   "outputs": [],
   "source": [
    "predictors=['Attr5', 'Attr11', 'Attr21', 'Attr22', 'Attr24', 'Attr27', 'Attr33', 'Attr40', 'Attr46', 'Attr55']\n",
    "target=['class']\n",
    "X=year_1[predictors]\n",
    "y=year_1[target]"
   ]
  },
  {
   "cell_type": "code",
   "execution_count": 9,
   "metadata": {},
   "outputs": [],
   "source": [
    "#X\n",
    "#y"
   ]
  },
  {
   "cell_type": "code",
   "execution_count": 10,
   "metadata": {},
   "outputs": [],
   "source": [
    "from sklearn.impute import SimpleImputer"
   ]
  },
  {
   "cell_type": "code",
   "execution_count": 11,
   "metadata": {},
   "outputs": [],
   "source": [
    "# Now we impute the missing values with SimpleImputer\n",
    "\n",
    "# create an instance of the simple imputer\n",
    "# we indicate that we want to impute with the median\n",
    "mean_imputer = SimpleImputer(strategy='mean',)\n",
    "\n",
    "# we fit and transform the predictors dataframe\n",
    "# the imputer will learn the mean of all variables\n",
    "X_new=mean_imputer.fit_transform(X[predictors])"
   ]
  },
  {
   "cell_type": "code",
   "execution_count": 12,
   "metadata": {},
   "outputs": [],
   "source": [
    "y_1=y.copy()\n",
    "X_1=pd.DataFrame(X_new, columns=predictors)"
   ]
  },
  {
   "cell_type": "markdown",
   "metadata": {},
   "source": [
    "### over sampling through SMOTE is performed"
   ]
  },
  {
   "cell_type": "code",
   "execution_count": 13,
   "metadata": {},
   "outputs": [],
   "source": [
    "from imblearn.over_sampling import SMOTE\n",
    "sm = SMOTE(random_state = 2) \n",
    "X_res, y_res = sm.fit_resample(X_1, y_1)"
   ]
  },
  {
   "cell_type": "code",
   "execution_count": 14,
   "metadata": {},
   "outputs": [
    {
     "data": {
      "text/plain": [
       "13512"
      ]
     },
     "execution_count": 14,
     "metadata": {},
     "output_type": "execute_result"
    }
   ],
   "source": [
    "len(X_res)"
   ]
  },
  {
   "cell_type": "code",
   "execution_count": 15,
   "metadata": {},
   "outputs": [
    {
     "data": {
      "text/plain": [
       "13512"
      ]
     },
     "execution_count": 15,
     "metadata": {},
     "output_type": "execute_result"
    }
   ],
   "source": [
    "\n",
    "len(y_res)"
   ]
  },
  {
   "cell_type": "markdown",
   "metadata": {},
   "source": [
    "### Note:- since , i have not splited my data into train-test dataset so my independent and dependent data are in pandas dataframe so in order to implement in XGBoostingClassifier algo in pickled , model will not take dataframe data as input to predict , so i need to convert X(input data ) into numpy array , i m not converting y into numpy array¶\n"
   ]
  },
  {
   "cell_type": "code",
   "execution_count": 16,
   "metadata": {},
   "outputs": [
    {
     "data": {
      "text/plain": [
       "pandas.core.frame.DataFrame"
      ]
     },
     "execution_count": 16,
     "metadata": {},
     "output_type": "execute_result"
    }
   ],
   "source": [
    "#type(X_res)\n",
    "type(y_res)"
   ]
  },
  {
   "cell_type": "code",
   "execution_count": 17,
   "metadata": {},
   "outputs": [],
   "source": [
    "X=np.array(X_res)\n",
    "y=np.array(y_res)"
   ]
  },
  {
   "cell_type": "code",
   "execution_count": 18,
   "metadata": {},
   "outputs": [],
   "source": [
    "#type(X)\n",
    "#type(y)"
   ]
  },
  {
   "cell_type": "code",
   "execution_count": 19,
   "metadata": {},
   "outputs": [],
   "source": [
    "import seaborn as sns\n",
    "import xgboost as xgb\n",
    "# Classification metrices\n",
    "from sklearn.metrics import accuracy_score,confusion_matrix, classification_report, precision_score,recall_score,f1_score"
   ]
  },
  {
   "cell_type": "code",
   "execution_count": 20,
   "metadata": {},
   "outputs": [
    {
     "data": {
      "text/plain": [
       "'1.5.0'"
      ]
     },
     "execution_count": 20,
     "metadata": {},
     "output_type": "execute_result"
    }
   ],
   "source": [
    "xgb.__version__"
   ]
  },
  {
   "cell_type": "markdown",
   "metadata": {},
   "source": [
    "### functionalizing the model"
   ]
  },
  {
   "cell_type": "code",
   "execution_count": 21,
   "metadata": {},
   "outputs": [],
   "source": [
    "\n",
    "from sklearn import model_selection\n",
    "from sklearn.model_selection import train_test_split\n",
    "from sklearn.model_selection import KFold\n",
    "from sklearn.model_selection import cross_val_score\n",
    "from sklearn.model_selection import GridSearchCV\n",
    "from xgboost import XGBClassifier\n",
    "import pickle"
   ]
  },
  {
   "cell_type": "code",
   "execution_count": 22,
   "metadata": {},
   "outputs": [],
   "source": [
    "# Functionalize model fittting\n",
    "\n",
    "def FitModel(X,Y,algo_name,algorithm,gridSearchParams,cv):\n",
    "    np.random.seed(10)\n",
    "    x_train,x_test,y_train,y_test = train_test_split(X,Y, test_size = 0.2)\n",
    "    \n",
    "    \n",
    "    grid = GridSearchCV(\n",
    "        estimator=algorithm,\n",
    "        param_grid=gridSearchParams,\n",
    "        cv=cv, scoring='accuracy', verbose=1, n_jobs=-1)\n",
    "    \n",
    "    \n",
    "    grid_result = grid.fit(x_train, y_train)\n",
    "    best_params = grid_result.best_params_\n",
    "    pred = grid_result.predict(x_test)\n",
    "    cm = confusion_matrix(y_test, pred)\n",
    "   # metrics =grid_result.gr\n",
    "    print(pred)\n",
    "    pickle.dump(grid_result,open(algo_name,'wb'))\n",
    "   \n",
    "    print('Best Params :',best_params)\n",
    "    print('Classification Report :',classification_report(y_test,pred))\n",
    "    print('Accuracy Score : ' + str(accuracy_score(y_test,pred)))\n",
    "    print('Confusion Matrix : \\n', cm)"
   ]
  },
  {
   "cell_type": "code",
   "execution_count": 23,
   "metadata": {},
   "outputs": [
    {
     "name": "stdout",
     "output_type": "stream",
     "text": [
      "Fitting 5 folds for each of 5 candidates, totalling 25 fits\n"
     ]
    },
    {
     "name": "stderr",
     "output_type": "stream",
     "text": [
      "C:\\Users\\CG-DTE\\anaconda3\\lib\\site-packages\\xgboost\\sklearn.py:1224: UserWarning: The use of label encoder in XGBClassifier is deprecated and will be removed in a future release. To remove this warning, do the following: 1) Pass option use_label_encoder=False when constructing XGBClassifier object; and 2) Encode your labels (y) as integers starting with 0, i.e. 0, 1, 2, ..., [num_class - 1].\n",
      "  warnings.warn(label_encoder_deprecation_msg, UserWarning)\n",
      "C:\\Users\\CG-DTE\\anaconda3\\lib\\site-packages\\sklearn\\preprocessing\\_label.py:98: DataConversionWarning: A column-vector y was passed when a 1d array was expected. Please change the shape of y to (n_samples, ), for example using ravel().\n",
      "  y = column_or_1d(y, warn=True)\n",
      "C:\\Users\\CG-DTE\\anaconda3\\lib\\site-packages\\sklearn\\preprocessing\\_label.py:133: DataConversionWarning: A column-vector y was passed when a 1d array was expected. Please change the shape of y to (n_samples, ), for example using ravel().\n",
      "  y = column_or_1d(y, warn=True)\n"
     ]
    },
    {
     "name": "stdout",
     "output_type": "stream",
     "text": [
      "[17:16:04] WARNING: C:/Users/Administrator/workspace/xgboost-win64_release_1.5.0/src/learner.cc:1115: Starting in XGBoost 1.3.0, the default evaluation metric used with the objective 'binary:logistic' was changed from 'error' to 'logloss'. Explicitly set eval_metric if you'd like to restore the old behavior.\n",
      "[1 1 0 ... 1 1 0]\n",
      "Best Params : {'n_estimators': 500}\n",
      "Classification Report :               precision    recall  f1-score   support\n",
      "\n",
      "           0       0.99      0.97      0.98      1361\n",
      "           1       0.97      0.99      0.98      1342\n",
      "\n",
      "    accuracy                           0.98      2703\n",
      "   macro avg       0.98      0.98      0.98      2703\n",
      "weighted avg       0.98      0.98      0.98      2703\n",
      "\n",
      "Accuracy Score : 0.9785423603403626\n",
      "Confusion Matrix : \n",
      " [[1322   39]\n",
      " [  19 1323]]\n"
     ]
    }
   ],
   "source": [
    "param ={\n",
    "            'n_estimators': [50, 100, 500, 1000, 2000],\n",
    "           \n",
    "        }\n",
    "FitModel(X,y,'finalized_model5.pkl',XGBClassifier(),param,cv=5)"
   ]
  },
  {
   "cell_type": "markdown",
   "metadata": {},
   "source": [
    "### Reloading the Saved Model"
   ]
  },
  {
   "cell_type": "code",
   "execution_count": 24,
   "metadata": {},
   "outputs": [],
   "source": [
    "loaded_model = pickle.load(open(\"finalized_model5.pkl\",\"rb\"))"
   ]
  },
  {
   "cell_type": "code",
   "execution_count": 25,
   "metadata": {},
   "outputs": [],
   "source": [
    "pred = loaded_model.predict(np.array([[32.3510,0.249760,1.2479,0.214020,0.477060,1.45820,3.8772,0.662950,1.522500,348690.00]]))"
   ]
  },
  {
   "cell_type": "code",
   "execution_count": 26,
   "metadata": {},
   "outputs": [
    {
     "name": "stdout",
     "output_type": "stream",
     "text": [
      "[0]\n"
     ]
    }
   ],
   "source": [
    "\n",
    "print(pred)"
   ]
  },
  {
   "cell_type": "code",
   "execution_count": 27,
   "metadata": {},
   "outputs": [],
   "source": [
    "def change (prediction):\n",
    "    if prediction==1:\n",
    "        return 'yes'\n",
    "    else:\n",
    "        return 'No'"
   ]
  },
  {
   "cell_type": "code",
   "execution_count": 28,
   "metadata": {},
   "outputs": [
    {
     "name": "stdout",
     "output_type": "stream",
     "text": [
      "some of the features of company:-\n",
      "[(cash + short-term securities + receivables - short-term liabilities) / (operating expenses - depreciation)] * 365 = 32.3510\n",
      "(gross profit + extraordinary items + financial expenses) / total assets = 0.249760\n",
      "sales (n) / sales (n-1) = 1.2479\n",
      "profit on operating activities / total assets = 0.214020\n",
      "gross profit (in 3 years) / total assets = 0.477060\n",
      "profit on operating activities / financial expenses = 1.45820\n",
      "operating expenses / short-term liabilities = 3.8772\n",
      "(current assets - inventory - receivables) / short-term liabilities = 0.662950\n",
      "(current assets - inventory) / short-term liabilities = 1.522500\n",
      " (sales - cost of products sold) / sales = 348690.00\n",
      "\n",
      "\n",
      "\n",
      "will company go for bankruptcy ? No\n"
     ]
    }
   ],
   "source": [
    "print('some of the features of company:-')\n",
    "print('[(cash + short-term securities + receivables - short-term liabilities) / (operating expenses - depreciation)] * 365 = 32.3510')\n",
    "print('(gross profit + extraordinary items + financial expenses) / total assets = 0.249760')\n",
    "print('sales (n) / sales (n-1) = 1.2479')\n",
    "print('profit on operating activities / total assets = 0.214020')\n",
    "print('gross profit (in 3 years) / total assets = 0.477060')\n",
    "print('profit on operating activities / financial expenses = 1.45820')\n",
    "print('operating expenses / short-term liabilities = 3.8772')\n",
    "print('(current assets - inventory - receivables) / short-term liabilities = 0.662950')\n",
    "print('(current assets - inventory) / short-term liabilities = 1.522500')\n",
    "print(' (sales - cost of products sold) / sales = 348690.00')\n",
    "print('\\n\\n')\n",
    "\n",
    "print('will company go for bankruptcy ? {}'.format(change(pred)))"
   ]
  },
  {
   "cell_type": "code",
   "execution_count": null,
   "metadata": {},
   "outputs": [],
   "source": []
  },
  {
   "cell_type": "code",
   "execution_count": null,
   "metadata": {},
   "outputs": [],
   "source": []
  },
  {
   "cell_type": "code",
   "execution_count": null,
   "metadata": {},
   "outputs": [],
   "source": []
  },
  {
   "cell_type": "code",
   "execution_count": null,
   "metadata": {},
   "outputs": [],
   "source": []
  },
  {
   "cell_type": "code",
   "execution_count": null,
   "metadata": {},
   "outputs": [],
   "source": []
  },
  {
   "cell_type": "code",
   "execution_count": null,
   "metadata": {},
   "outputs": [],
   "source": []
  }
 ],
 "metadata": {
  "kernelspec": {
   "display_name": "Python 3",
   "language": "python",
   "name": "python3"
  },
  "language_info": {
   "codemirror_mode": {
    "name": "ipython",
    "version": 3
   },
   "file_extension": ".py",
   "mimetype": "text/x-python",
   "name": "python",
   "nbconvert_exporter": "python",
   "pygments_lexer": "ipython3",
   "version": "3.8.5"
  }
 },
 "nbformat": 4,
 "nbformat_minor": 4
}
