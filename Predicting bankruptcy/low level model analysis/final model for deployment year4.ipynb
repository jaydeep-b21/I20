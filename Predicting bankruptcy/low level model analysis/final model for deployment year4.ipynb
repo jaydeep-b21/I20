{
 "cells": [
  {
   "cell_type": "code",
   "execution_count": 1,
   "metadata": {},
   "outputs": [],
   "source": [
    "import pandas as pd \n",
    "import numpy as np"
   ]
  },
  {
   "cell_type": "code",
   "execution_count": 2,
   "metadata": {},
   "outputs": [
    {
     "name": "stderr",
     "output_type": "stream",
     "text": [
      "C:\\Users\\CG-DTE\\anaconda3\\lib\\site-packages\\IPython\\core\\interactiveshell.py:3146: DtypeWarning: Columns (1,2,3,6,7,8,10,11,14,15,16,17,18,22,24,25,26,29,34,35,36,38,48,50,51,57,59) have mixed types.Specify dtype option on import or set low_memory=False.\n",
      "  has_raised = await self.run_ast_nodes(code_ast.body, cell_name,\n"
     ]
    }
   ],
   "source": [
    "\n",
    "data=pd.read_csv(r\"C:\\Users\\CG-DTE\\Desktop\\AI\\GITHUB\\Predicting bankruptcy\\low level model analysis\\4year.csv\")"
   ]
  },
  {
   "cell_type": "markdown",
   "metadata": {},
   "source": [
    "### above feature set i have gone through some feature engineering steps\n",
    "#### missing imputation------>gaussian transformation ----->decision tree descritisation------>scaling --->feature selection\n",
    "#### [['Attr4','Attr5', 'Attr9', 'Attr13','Attr15', 'Attr21', 'Attr22', 'Attr24', 'Attr27', 'Attr34', 'Attr35', 'Attr40','Attr44' 'Attr46', 'Attr56']] i got these features\n",
    "\n",
    "### but important analysis i found that feature set using these above feature engineering steps giving best result on original data aftter imputation only"
   ]
  },
  {
   "cell_type": "code",
   "execution_count": 3,
   "metadata": {},
   "outputs": [],
   "source": [
    "year_4=data[['Attr5','Attr9','Attr15','Attr21','Attr24','Attr27','Attr34','Attr35','Attr40','Attr46','Attr55','Attr58','class']]"
   ]
  },
  {
   "cell_type": "code",
   "execution_count": 4,
   "metadata": {},
   "outputs": [],
   "source": [
    "k1=year_4.columns.tolist()"
   ]
  },
  {
   "cell_type": "code",
   "execution_count": 5,
   "metadata": {
    "scrolled": true
   },
   "outputs": [
    {
     "name": "stderr",
     "output_type": "stream",
     "text": [
      "<ipython-input-5-763fa34d3bd1>:3: SettingWithCopyWarning: \n",
      "A value is trying to be set on a copy of a slice from a DataFrame.\n",
      "Try using .loc[row_indexer,col_indexer] = value instead\n",
      "\n",
      "See the caveats in the documentation: https://pandas.pydata.org/pandas-docs/stable/user_guide/indexing.html#returning-a-view-versus-a-copy\n",
      "  year_4[i] = year_4[i].replace('?' , np.nan)\n"
     ]
    }
   ],
   "source": [
    "#replacing each ? to NAN\n",
    "for i in k1:\n",
    "    year_4[i] = year_4[i].replace('?' , np.nan)"
   ]
  },
  {
   "cell_type": "code",
   "execution_count": 6,
   "metadata": {},
   "outputs": [],
   "source": [
    "#converting object data into numericals(float64)\n",
    "year_4=year_4.apply(lambda col:pd.to_numeric(col,errors='coerce'))"
   ]
  },
  {
   "cell_type": "code",
   "execution_count": 7,
   "metadata": {},
   "outputs": [
    {
     "data": {
      "text/html": [
       "<div>\n",
       "<style scoped>\n",
       "    .dataframe tbody tr th:only-of-type {\n",
       "        vertical-align: middle;\n",
       "    }\n",
       "\n",
       "    .dataframe tbody tr th {\n",
       "        vertical-align: top;\n",
       "    }\n",
       "\n",
       "    .dataframe thead th {\n",
       "        text-align: right;\n",
       "    }\n",
       "</style>\n",
       "<table border=\"1\" class=\"dataframe\">\n",
       "  <thead>\n",
       "    <tr style=\"text-align: right;\">\n",
       "      <th></th>\n",
       "      <th>Attr5</th>\n",
       "      <th>Attr9</th>\n",
       "      <th>Attr15</th>\n",
       "      <th>Attr21</th>\n",
       "      <th>Attr24</th>\n",
       "      <th>Attr27</th>\n",
       "      <th>Attr34</th>\n",
       "      <th>Attr35</th>\n",
       "      <th>Attr40</th>\n",
       "      <th>Attr46</th>\n",
       "      <th>Attr55</th>\n",
       "      <th>Attr58</th>\n",
       "      <th>class</th>\n",
       "    </tr>\n",
       "  </thead>\n",
       "  <tbody>\n",
       "    <tr>\n",
       "      <th>0</th>\n",
       "      <td>-44.8530</td>\n",
       "      <td>1.12230</td>\n",
       "      <td>771.49</td>\n",
       "      <td>1.03460</td>\n",
       "      <td>0.576070</td>\n",
       "      <td>1.44230</td>\n",
       "      <td>0.391040</td>\n",
       "      <td>0.180820</td>\n",
       "      <td>0.167020</td>\n",
       "      <td>0.77736</td>\n",
       "      <td>90533.00</td>\n",
       "      <td>0.89101</td>\n",
       "      <td>0</td>\n",
       "    </tr>\n",
       "    <tr>\n",
       "      <th>1</th>\n",
       "      <td>7.5970</td>\n",
       "      <td>1.29440</td>\n",
       "      <td>-1871.30</td>\n",
       "      <td>0.65665</td>\n",
       "      <td>NaN</td>\n",
       "      <td>-18.99600</td>\n",
       "      <td>3.049300</td>\n",
       "      <td>-0.115680</td>\n",
       "      <td>0.042359</td>\n",
       "      <td>1.08630</td>\n",
       "      <td>2624.90</td>\n",
       "      <td>1.06250</td>\n",
       "      <td>0</td>\n",
       "    </tr>\n",
       "    <tr>\n",
       "      <th>2</th>\n",
       "      <td>125.6800</td>\n",
       "      <td>1.05740</td>\n",
       "      <td>725.64</td>\n",
       "      <td>0.99173</td>\n",
       "      <td>0.208350</td>\n",
       "      <td>0.71641</td>\n",
       "      <td>0.325060</td>\n",
       "      <td>0.076618</td>\n",
       "      <td>1.145100</td>\n",
       "      <td>2.56420</td>\n",
       "      <td>24672.00</td>\n",
       "      <td>0.94571</td>\n",
       "      <td>0</td>\n",
       "    </tr>\n",
       "    <tr>\n",
       "      <th>3</th>\n",
       "      <td>19.1150</td>\n",
       "      <td>1.11440</td>\n",
       "      <td>924.13</td>\n",
       "      <td>1.33550</td>\n",
       "      <td>0.504970</td>\n",
       "      <td>1.07750</td>\n",
       "      <td>0.357240</td>\n",
       "      <td>0.144820</td>\n",
       "      <td>0.218530</td>\n",
       "      <td>1.19710</td>\n",
       "      <td>6649.90</td>\n",
       "      <td>0.89737</td>\n",
       "      <td>0</td>\n",
       "    </tr>\n",
       "    <tr>\n",
       "      <th>4</th>\n",
       "      <td>-15.3440</td>\n",
       "      <td>1.73500</td>\n",
       "      <td>1663.00</td>\n",
       "      <td>1.03080</td>\n",
       "      <td>NaN</td>\n",
       "      <td>0.00000</td>\n",
       "      <td>1.392400</td>\n",
       "      <td>0.050620</td>\n",
       "      <td>0.245800</td>\n",
       "      <td>1.13870</td>\n",
       "      <td>1314.00</td>\n",
       "      <td>0.57153</td>\n",
       "      <td>0</td>\n",
       "    </tr>\n",
       "    <tr>\n",
       "      <th>...</th>\n",
       "      <td>...</td>\n",
       "      <td>...</td>\n",
       "      <td>...</td>\n",
       "      <td>...</td>\n",
       "      <td>...</td>\n",
       "      <td>...</td>\n",
       "      <td>...</td>\n",
       "      <td>...</td>\n",
       "      <td>...</td>\n",
       "      <td>...</td>\n",
       "      <td>...</td>\n",
       "      <td>...</td>\n",
       "      <td>...</td>\n",
       "    </tr>\n",
       "    <tr>\n",
       "      <th>9787</th>\n",
       "      <td>-39.0640</td>\n",
       "      <td>0.97093</td>\n",
       "      <td>2892.60</td>\n",
       "      <td>0.97345</td>\n",
       "      <td>0.013002</td>\n",
       "      <td>NaN</td>\n",
       "      <td>0.052162</td>\n",
       "      <td>0.028662</td>\n",
       "      <td>0.005245</td>\n",
       "      <td>0.73857</td>\n",
       "      <td>8772.00</td>\n",
       "      <td>1.02990</td>\n",
       "      <td>1</td>\n",
       "    </tr>\n",
       "    <tr>\n",
       "      <th>9788</th>\n",
       "      <td>-20.9230</td>\n",
       "      <td>1.00730</td>\n",
       "      <td>4654.80</td>\n",
       "      <td>0.76438</td>\n",
       "      <td>-0.027610</td>\n",
       "      <td>NaN</td>\n",
       "      <td>0.004403</td>\n",
       "      <td>0.002675</td>\n",
       "      <td>0.115010</td>\n",
       "      <td>0.47808</td>\n",
       "      <td>-564.42</td>\n",
       "      <td>0.99280</td>\n",
       "      <td>1</td>\n",
       "    </tr>\n",
       "    <tr>\n",
       "      <th>9789</th>\n",
       "      <td>-1.0692</td>\n",
       "      <td>0.80307</td>\n",
       "      <td>-1267.00</td>\n",
       "      <td>0.38471</td>\n",
       "      <td>-0.240360</td>\n",
       "      <td>NaN</td>\n",
       "      <td>-0.379840</td>\n",
       "      <td>-0.238190</td>\n",
       "      <td>0.004595</td>\n",
       "      <td>0.98745</td>\n",
       "      <td>7371.80</td>\n",
       "      <td>1.24520</td>\n",
       "      <td>1</td>\n",
       "    </tr>\n",
       "    <tr>\n",
       "      <th>9790</th>\n",
       "      <td>-214.2400</td>\n",
       "      <td>0.98145</td>\n",
       "      <td>2635.80</td>\n",
       "      <td>0.95615</td>\n",
       "      <td>-0.018774</td>\n",
       "      <td>3.07160</td>\n",
       "      <td>1.239600</td>\n",
       "      <td>0.090025</td>\n",
       "      <td>0.002242</td>\n",
       "      <td>0.39113</td>\n",
       "      <td>-4346.00</td>\n",
       "      <td>0.68127</td>\n",
       "      <td>1</td>\n",
       "    </tr>\n",
       "    <tr>\n",
       "      <th>9791</th>\n",
       "      <td>-24.2820</td>\n",
       "      <td>1.00140</td>\n",
       "      <td>3027.00</td>\n",
       "      <td>0.97685</td>\n",
       "      <td>0.027253</td>\n",
       "      <td>NaN</td>\n",
       "      <td>0.028393</td>\n",
       "      <td>0.013821</td>\n",
       "      <td>0.003703</td>\n",
       "      <td>0.75791</td>\n",
       "      <td>1542.00</td>\n",
       "      <td>0.99861</td>\n",
       "      <td>1</td>\n",
       "    </tr>\n",
       "  </tbody>\n",
       "</table>\n",
       "<p>9792 rows × 13 columns</p>\n",
       "</div>"
      ],
      "text/plain": [
       "         Attr5    Attr9   Attr15   Attr21    Attr24    Attr27    Attr34  \\\n",
       "0     -44.8530  1.12230   771.49  1.03460  0.576070   1.44230  0.391040   \n",
       "1       7.5970  1.29440 -1871.30  0.65665       NaN -18.99600  3.049300   \n",
       "2     125.6800  1.05740   725.64  0.99173  0.208350   0.71641  0.325060   \n",
       "3      19.1150  1.11440   924.13  1.33550  0.504970   1.07750  0.357240   \n",
       "4     -15.3440  1.73500  1663.00  1.03080       NaN   0.00000  1.392400   \n",
       "...        ...      ...      ...      ...       ...       ...       ...   \n",
       "9787  -39.0640  0.97093  2892.60  0.97345  0.013002       NaN  0.052162   \n",
       "9788  -20.9230  1.00730  4654.80  0.76438 -0.027610       NaN  0.004403   \n",
       "9789   -1.0692  0.80307 -1267.00  0.38471 -0.240360       NaN -0.379840   \n",
       "9790 -214.2400  0.98145  2635.80  0.95615 -0.018774   3.07160  1.239600   \n",
       "9791  -24.2820  1.00140  3027.00  0.97685  0.027253       NaN  0.028393   \n",
       "\n",
       "        Attr35    Attr40   Attr46    Attr55   Attr58  class  \n",
       "0     0.180820  0.167020  0.77736  90533.00  0.89101      0  \n",
       "1    -0.115680  0.042359  1.08630   2624.90  1.06250      0  \n",
       "2     0.076618  1.145100  2.56420  24672.00  0.94571      0  \n",
       "3     0.144820  0.218530  1.19710   6649.90  0.89737      0  \n",
       "4     0.050620  0.245800  1.13870   1314.00  0.57153      0  \n",
       "...        ...       ...      ...       ...      ...    ...  \n",
       "9787  0.028662  0.005245  0.73857   8772.00  1.02990      1  \n",
       "9788  0.002675  0.115010  0.47808   -564.42  0.99280      1  \n",
       "9789 -0.238190  0.004595  0.98745   7371.80  1.24520      1  \n",
       "9790  0.090025  0.002242  0.39113  -4346.00  0.68127      1  \n",
       "9791  0.013821  0.003703  0.75791   1542.00  0.99861      1  \n",
       "\n",
       "[9792 rows x 13 columns]"
      ]
     },
     "execution_count": 7,
     "metadata": {},
     "output_type": "execute_result"
    }
   ],
   "source": [
    "year_4"
   ]
  },
  {
   "cell_type": "markdown",
   "metadata": {},
   "source": [
    "### so here i m building model on entire dataset for , so i m not divinding into train and test dataset , so that i do have ample amount of data to train our model more accurately"
   ]
  },
  {
   "cell_type": "code",
   "execution_count": 8,
   "metadata": {},
   "outputs": [],
   "source": [
    "predictors=['Attr5','Attr9','Attr15','Attr21','Attr24','Attr27','Attr34','Attr35','Attr40','Attr46','Attr55','Attr58']\n",
    "target=['class']\n",
    "X=year_4[predictors]\n",
    "y=year_4[target]"
   ]
  },
  {
   "cell_type": "code",
   "execution_count": 9,
   "metadata": {},
   "outputs": [],
   "source": [
    "#X\n",
    "#y"
   ]
  },
  {
   "cell_type": "code",
   "execution_count": 10,
   "metadata": {},
   "outputs": [],
   "source": [
    "from sklearn.impute import SimpleImputer"
   ]
  },
  {
   "cell_type": "code",
   "execution_count": 11,
   "metadata": {},
   "outputs": [],
   "source": [
    "# Now we impute the missing values with SimpleImputer\n",
    "\n",
    "# create an instance of the simple imputer\n",
    "# we indicate that we want to impute with the median\n",
    "mean_imputer = SimpleImputer(strategy='mean',)\n",
    "\n",
    "# we fit and transform the predictors dataframe\n",
    "# the imputer will learn the mean of all variables\n",
    "X_new=mean_imputer.fit_transform(X[predictors])"
   ]
  },
  {
   "cell_type": "code",
   "execution_count": 12,
   "metadata": {},
   "outputs": [],
   "source": [
    "y_1=y.copy()\n",
    "X_1=pd.DataFrame(X_new, columns=predictors)"
   ]
  },
  {
   "cell_type": "markdown",
   "metadata": {},
   "source": [
    "### over sampling through SMOTE is performed"
   ]
  },
  {
   "cell_type": "code",
   "execution_count": 13,
   "metadata": {},
   "outputs": [],
   "source": [
    "from imblearn.over_sampling import SMOTE\n",
    "sm = SMOTE(random_state = 2) \n",
    "X_res, y_res = sm.fit_resample(X_1, y_1)"
   ]
  },
  {
   "cell_type": "code",
   "execution_count": 14,
   "metadata": {},
   "outputs": [
    {
     "data": {
      "text/plain": [
       "18554"
      ]
     },
     "execution_count": 14,
     "metadata": {},
     "output_type": "execute_result"
    }
   ],
   "source": [
    "len(X_res)"
   ]
  },
  {
   "cell_type": "code",
   "execution_count": 15,
   "metadata": {},
   "outputs": [
    {
     "data": {
      "text/plain": [
       "18554"
      ]
     },
     "execution_count": 15,
     "metadata": {},
     "output_type": "execute_result"
    }
   ],
   "source": [
    "\n",
    "len(y_res)"
   ]
  },
  {
   "cell_type": "markdown",
   "metadata": {},
   "source": [
    "### Note:- since , i have not splited my data into train-test dataset so my independent and dependent data are in pandas dataframe so in order to implement in XGBoostingClassifier algo in pickled , model will not take dataframe data as input to predict , so i need to convert X(input data ) into numpy array , i m not converting y into numpy array¶\n"
   ]
  },
  {
   "cell_type": "code",
   "execution_count": 16,
   "metadata": {},
   "outputs": [
    {
     "data": {
      "text/plain": [
       "pandas.core.frame.DataFrame"
      ]
     },
     "execution_count": 16,
     "metadata": {},
     "output_type": "execute_result"
    }
   ],
   "source": [
    "#type(X_res)\n",
    "type(y_res)"
   ]
  },
  {
   "cell_type": "code",
   "execution_count": 17,
   "metadata": {},
   "outputs": [],
   "source": [
    "X=np.array(X_res)\n",
    "y=np.array(y_res)"
   ]
  },
  {
   "cell_type": "code",
   "execution_count": 18,
   "metadata": {},
   "outputs": [],
   "source": [
    "#type(X)\n",
    "#type(y)"
   ]
  },
  {
   "cell_type": "code",
   "execution_count": 19,
   "metadata": {},
   "outputs": [],
   "source": [
    "import seaborn as sns\n",
    "import xgboost as xgb\n",
    "# Classification metrices\n",
    "from sklearn.metrics import accuracy_score,confusion_matrix, classification_report, precision_score,recall_score,f1_score"
   ]
  },
  {
   "cell_type": "code",
   "execution_count": 20,
   "metadata": {},
   "outputs": [
    {
     "data": {
      "text/plain": [
       "'1.5.0'"
      ]
     },
     "execution_count": 20,
     "metadata": {},
     "output_type": "execute_result"
    }
   ],
   "source": [
    "xgb.__version__"
   ]
  },
  {
   "cell_type": "markdown",
   "metadata": {},
   "source": [
    "### functionalizing the model"
   ]
  },
  {
   "cell_type": "code",
   "execution_count": 21,
   "metadata": {},
   "outputs": [],
   "source": [
    "\n",
    "from sklearn import model_selection\n",
    "from sklearn.model_selection import train_test_split\n",
    "from sklearn.model_selection import KFold\n",
    "from sklearn.model_selection import cross_val_score\n",
    "from sklearn.model_selection import GridSearchCV\n",
    "from xgboost import XGBClassifier\n",
    "import pickle"
   ]
  },
  {
   "cell_type": "code",
   "execution_count": 22,
   "metadata": {},
   "outputs": [],
   "source": [
    "# Functionalize model fittting\n",
    "\n",
    "def FitModel(X,Y,algo_name,algorithm,gridSearchParams,cv):\n",
    "    np.random.seed(10)\n",
    "    x_train,x_test,y_train,y_test = train_test_split(X,Y, test_size = 0.2)\n",
    "    \n",
    "    \n",
    "    grid = GridSearchCV(\n",
    "        estimator=algorithm,\n",
    "        param_grid=gridSearchParams,\n",
    "        cv=cv, scoring='accuracy', verbose=1, n_jobs=-1)\n",
    "    \n",
    "    \n",
    "    grid_result = grid.fit(x_train, y_train)\n",
    "    best_params = grid_result.best_params_\n",
    "    pred = grid_result.predict(x_test)\n",
    "    cm = confusion_matrix(y_test, pred)\n",
    "   # metrics =grid_result.gr\n",
    "    print(pred)\n",
    "    pickle.dump(grid_result,open(algo_name,'wb'))\n",
    "   \n",
    "    print('Best Params :',best_params)\n",
    "    print('Classification Report :',classification_report(y_test,pred))\n",
    "    print('Accuracy Score : ' + str(accuracy_score(y_test,pred)))\n",
    "    print('Confusion Matrix : \\n', cm)"
   ]
  },
  {
   "cell_type": "code",
   "execution_count": 23,
   "metadata": {},
   "outputs": [
    {
     "name": "stdout",
     "output_type": "stream",
     "text": [
      "Fitting 5 folds for each of 5 candidates, totalling 25 fits\n"
     ]
    },
    {
     "name": "stderr",
     "output_type": "stream",
     "text": [
      "C:\\Users\\CG-DTE\\anaconda3\\lib\\site-packages\\xgboost\\sklearn.py:1224: UserWarning: The use of label encoder in XGBClassifier is deprecated and will be removed in a future release. To remove this warning, do the following: 1) Pass option use_label_encoder=False when constructing XGBClassifier object; and 2) Encode your labels (y) as integers starting with 0, i.e. 0, 1, 2, ..., [num_class - 1].\n",
      "  warnings.warn(label_encoder_deprecation_msg, UserWarning)\n",
      "C:\\Users\\CG-DTE\\anaconda3\\lib\\site-packages\\sklearn\\preprocessing\\_label.py:98: DataConversionWarning: A column-vector y was passed when a 1d array was expected. Please change the shape of y to (n_samples, ), for example using ravel().\n",
      "  y = column_or_1d(y, warn=True)\n",
      "C:\\Users\\CG-DTE\\anaconda3\\lib\\site-packages\\sklearn\\preprocessing\\_label.py:133: DataConversionWarning: A column-vector y was passed when a 1d array was expected. Please change the shape of y to (n_samples, ), for example using ravel().\n",
      "  y = column_or_1d(y, warn=True)\n"
     ]
    },
    {
     "name": "stdout",
     "output_type": "stream",
     "text": [
      "[18:42:34] WARNING: C:/Users/Administrator/workspace/xgboost-win64_release_1.5.0/src/learner.cc:1115: Starting in XGBoost 1.3.0, the default evaluation metric used with the objective 'binary:logistic' was changed from 'error' to 'logloss'. Explicitly set eval_metric if you'd like to restore the old behavior.\n",
      "[1 1 0 ... 0 1 1]\n",
      "Best Params : {'n_estimators': 2000}\n",
      "Classification Report :               precision    recall  f1-score   support\n",
      "\n",
      "           0       0.99      0.97      0.98      1838\n",
      "           1       0.97      0.99      0.98      1873\n",
      "\n",
      "    accuracy                           0.98      3711\n",
      "   macro avg       0.98      0.98      0.98      3711\n",
      "weighted avg       0.98      0.98      0.98      3711\n",
      "\n",
      "Accuracy Score : 0.9770951226084613\n",
      "Confusion Matrix : \n",
      " [[1777   61]\n",
      " [  24 1849]]\n"
     ]
    }
   ],
   "source": [
    "param ={\n",
    "            'n_estimators': [50, 100, 500, 1000, 2000],\n",
    "           \n",
    "        }\n",
    "FitModel(X,y,'finalized_model2.pkl',XGBClassifier(),param,cv=5)"
   ]
  },
  {
   "cell_type": "markdown",
   "metadata": {},
   "source": [
    "### Reloading the Saved Model"
   ]
  },
  {
   "cell_type": "code",
   "execution_count": 24,
   "metadata": {},
   "outputs": [],
   "source": [
    "loaded_model = pickle.load(open(\"finalized_model2.pkl\",\"rb\"))"
   ]
  },
  {
   "cell_type": "code",
   "execution_count": 25,
   "metadata": {},
   "outputs": [],
   "source": [
    "pred = loaded_model.predict(np.array([[-214.2400,0.98145,2635.80,0.95615,-0.018774,3.0716,1.239600,0.090025,0.002242,0.39113,-4346.00,0.68127]]))"
   ]
  },
  {
   "cell_type": "code",
   "execution_count": 26,
   "metadata": {},
   "outputs": [
    {
     "name": "stdout",
     "output_type": "stream",
     "text": [
      "[1]\n"
     ]
    }
   ],
   "source": [
    "\n",
    "print(pred)"
   ]
  },
  {
   "cell_type": "code",
   "execution_count": 27,
   "metadata": {},
   "outputs": [],
   "source": [
    "def change (prediction):\n",
    "    if prediction==1:\n",
    "        return 'yes'\n",
    "    else:\n",
    "        return 'No'"
   ]
  },
  {
   "cell_type": "code",
   "execution_count": 28,
   "metadata": {
    "scrolled": true
   },
   "outputs": [
    {
     "name": "stdout",
     "output_type": "stream",
     "text": [
      "some of the features of company:-\n",
      "[(cash + short-term securities + receivables - short-term liabilities) / (operating expenses - depreciation)] * 365 = -214.2400 \n",
      "sales / total assets = 0.98145\n",
      "(total liabilities * 365) / (gross profit + depreciation) = 2635.80\n",
      "sales (n) / sales (n-1) = 0.95615\n",
      "gross profit (in 3 years) / total assets = -0.018774\n",
      "profit on operating activities / financial expenses = 3.0716\n",
      "operating expenses / total liabilities = 1.239600\n",
      "profit on sales / total assets = .090025\n",
      "(current assets - inventory - receivables) / short-term liabilities = 0.002242\n",
      "(current assets - inventory) / short-term liabilities = 0.39113\n",
      "working capital = -4346.00\n",
      "total costs /total sales = 0.68127\n",
      "\n",
      "\n",
      "\n",
      "will company go for bankruptcy ? yes\n"
     ]
    }
   ],
   "source": [
    "print('some of the features of company:-')\n",
    "print('[(cash + short-term securities + receivables - short-term liabilities) / (operating expenses - depreciation)] * 365 = -214.2400 ')\n",
    "print('sales / total assets = 0.98145')\n",
    "print('(total liabilities * 365) / (gross profit + depreciation) = 2635.80')\n",
    "print('sales (n) / sales (n-1) = 0.95615')\n",
    "print('gross profit (in 3 years) / total assets = -0.018774')\n",
    "print('profit on operating activities / financial expenses = 3.0716')\n",
    "print('operating expenses / total liabilities = 1.239600')\n",
    "print('profit on sales / total assets = .090025')\n",
    "print('(current assets - inventory - receivables) / short-term liabilities = 0.002242')\n",
    "print('(current assets - inventory) / short-term liabilities = 0.39113')\n",
    "print('working capital = -4346.00')\n",
    "print('total costs /total sales = 0.68127')\n",
    "\n",
    "print('\\n\\n')\n",
    "\n",
    "print('will company go for bankruptcy ? {}'.format(change(pred)))"
   ]
  },
  {
   "cell_type": "code",
   "execution_count": null,
   "metadata": {},
   "outputs": [],
   "source": []
  },
  {
   "cell_type": "code",
   "execution_count": null,
   "metadata": {},
   "outputs": [],
   "source": []
  },
  {
   "cell_type": "code",
   "execution_count": null,
   "metadata": {},
   "outputs": [],
   "source": []
  },
  {
   "cell_type": "code",
   "execution_count": null,
   "metadata": {},
   "outputs": [],
   "source": []
  },
  {
   "cell_type": "code",
   "execution_count": null,
   "metadata": {},
   "outputs": [],
   "source": []
  },
  {
   "cell_type": "code",
   "execution_count": null,
   "metadata": {},
   "outputs": [],
   "source": []
  }
 ],
 "metadata": {
  "kernelspec": {
   "display_name": "Python 3",
   "language": "python",
   "name": "python3"
  },
  "language_info": {
   "codemirror_mode": {
    "name": "ipython",
    "version": 3
   },
   "file_extension": ".py",
   "mimetype": "text/x-python",
   "name": "python",
   "nbconvert_exporter": "python",
   "pygments_lexer": "ipython3",
   "version": "3.8.5"
  }
 },
 "nbformat": 4,
 "nbformat_minor": 4
}
